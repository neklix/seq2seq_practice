{
  "nbformat": 4,
  "nbformat_minor": 0,
  "metadata": {
    "colab": {
      "name": "seq2seq_translation_tutorial (1).ipynb",
      "provenance": [],
      "collapsed_sections": [
        "Hj0yKkNUmQ1i"
      ]
    },
    "kernelspec": {
      "display_name": "mlkit",
      "language": "python",
      "name": "mlkit"
    },
    "language_info": {
      "codemirror_mode": {
        "name": "ipython",
        "version": 3
      },
      "file_extension": ".py",
      "mimetype": "text/x-python",
      "name": "python",
      "nbconvert_exporter": "python",
      "pygments_lexer": "ipython3",
      "version": "3.7.9"
    },
    "accelerator": "GPU"
  },
  "cells": [
    {
      "cell_type": "code",
      "metadata": {
        "colab": {
          "base_uri": "https://localhost:8080/"
        },
        "id": "KPiT26XQfJRE",
        "outputId": "53785a6e-aefd-449d-a1bb-252a8c973bb2"
      },
      "source": [
        "! nvidia-smi"
      ],
      "execution_count": null,
      "outputs": [
        {
          "output_type": "stream",
          "text": [
            "Wed May 12 18:47:25 2021       \n",
            "+-----------------------------------------------------------------------------+\n",
            "| NVIDIA-SMI 465.19.01    Driver Version: 460.32.03    CUDA Version: 11.2     |\n",
            "|-------------------------------+----------------------+----------------------+\n",
            "| GPU  Name        Persistence-M| Bus-Id        Disp.A | Volatile Uncorr. ECC |\n",
            "| Fan  Temp  Perf  Pwr:Usage/Cap|         Memory-Usage | GPU-Util  Compute M. |\n",
            "|                               |                      |               MIG M. |\n",
            "|===============================+======================+======================|\n",
            "|   0  Tesla T4            Off  | 00000000:00:04.0 Off |                    0 |\n",
            "| N/A   38C    P8     9W /  70W |      0MiB / 15109MiB |      0%      Default |\n",
            "|                               |                      |                  N/A |\n",
            "+-------------------------------+----------------------+----------------------+\n",
            "                                                                               \n",
            "+-----------------------------------------------------------------------------+\n",
            "| Processes:                                                                  |\n",
            "|  GPU   GI   CI        PID   Type   Process name                  GPU Memory |\n",
            "|        ID   ID                                                   Usage      |\n",
            "|=============================================================================|\n",
            "|  No running processes found                                                 |\n",
            "+-----------------------------------------------------------------------------+\n"
          ],
          "name": "stdout"
        }
      ]
    },
    {
      "cell_type": "code",
      "metadata": {
        "id": "COTPPmYpfJRG"
      },
      "source": [
        "import os\n",
        "os.environ['CUDA_VISIBLE_DEVICES'] = \"1\""
      ],
      "execution_count": null,
      "outputs": []
    },
    {
      "cell_type": "markdown",
      "metadata": {
        "id": "GkSgEe-Jku-r"
      },
      "source": [
        "# Seq2seq"
      ]
    },
    {
      "cell_type": "code",
      "metadata": {
        "id": "QNNAb0a9kuEE"
      },
      "source": [
        "%matplotlib inline"
      ],
      "execution_count": null,
      "outputs": []
    },
    {
      "cell_type": "markdown",
      "metadata": {
        "id": "G3v2Ww3lkf9x"
      },
      "source": [
        "В этом проекте мы будем учиться делать перевод с французского на английский. Примерно так:\n",
        "\n",
        "    [KEY: > input, = target, < output]\n",
        "\n",
        "    > il est en train de peindre un tableau .\n",
        "    = he is painting a picture .\n",
        "    < he is painting a picture .\n",
        "\n",
        "    > pourquoi ne pas essayer ce vin delicieux ?\n",
        "    = why not try that delicious wine ?\n",
        "    < why not try that delicious wine ?\n",
        "\n",
        "    > elle n est pas poete mais romanciere .\n",
        "    = she is not a poet but a novelist .\n",
        "    < she not not a poet but a novelist .\n",
        "\n",
        "    > vous etes trop maigre .\n",
        "    = you re too skinny .\n",
        "    < you re all alone .\n",
        "\n",
        "Для этого мы будем исплользовать мощную идею «sequence-to-sequence» сетей (https://arxiv.org/abs/1409.3215), в которых две рекуррентные сети обучаются вместе для преоразования одной последовательности в другую.\n",
        "\n",
        "* Encoder-сеть сжимает входную последовательность в вектор.\n",
        "* Decoder-сеть разжимает этот вектор в новую последовательность.\n",
        "\n",
        "Всё как с автоэнкодерами, только encoder и decoder из разных доменов.\n",
        "\n",
        "Чтобы вся эта схема обучалась стабильнее, мы будем использовать механизм attention (https://arxiv.org/abs/1409.0473), позволяющий декодеру «фокусироваться» на специфичных токенах входной последовательности.\n",
        "\n",
        "**Рекомендуемое чтение:**\n",
        "\n",
        "-  Learning Phrase Representations using RNN Encoder-Decoder for\n",
        "   Statistical Machine Translation (https://arxiv.org/abs/1406.1078)\n",
        "-  Sequence to Sequence Learning with Neural\n",
        "   Networks (https://arxiv.org/abs/1409.3215)\n",
        "-  Neural Machine Translation by Jointly Learning to Align and\n",
        "   Translate 9https://arxiv.org/abs/1409.0473)\n",
        "-  A Neural Conversational Model (https://arxiv.org/abs/1506.05869>)\n",
        "\n",
        "Если кто-то пропустил предыдущие занатия, то лучше сначала сделать их: основные концепции такие же, как в языковых моделях."
      ]
    },
    {
      "cell_type": "code",
      "metadata": {
        "id": "zt1ZcvSZkf9y"
      },
      "source": [
        "# осторожно: тетрадка старая\n",
        "\n",
        "from __future__ import unicode_literals, print_function, division\n",
        "from io import open\n",
        "import unicodedata\n",
        "import string\n",
        "import re\n",
        "import random\n",
        "\n",
        "import torch\n",
        "import torch.nn as nn\n",
        "from torch import optim\n",
        "import torch.nn.functional as F\n",
        "\n",
        "device = torch.device(\"cuda:0\" if torch.cuda.is_available() else \"cpu\")"
      ],
      "execution_count": null,
      "outputs": []
    },
    {
      "cell_type": "markdown",
      "metadata": {
        "id": "_A9f1xpMkf90"
      },
      "source": [
        "## Данные\n",
        "\n",
        "В этом проекте мы будем работать с кучей пар предложений на английском и французском.\n",
        "\n",
        "Скачайте данные отсюда (https://download.pytorch.org/tutorial/data.zip) и возьмите оттуда файлик eng-fra.txt. В нём должно быть много строчек примерно такого формата:\n",
        "\n",
        "    I am cold.    J'ai froid."
      ]
    },
    {
      "cell_type": "code",
      "metadata": {
        "colab": {
          "base_uri": "https://localhost:8080/"
        },
        "id": "Q_oxaMQJzA_t",
        "outputId": "e4b2d81a-1613-4e0c-b9f7-153c47cd0c57"
      },
      "source": [
        "!wget https://download.pytorch.org/tutorial/data.zip"
      ],
      "execution_count": null,
      "outputs": [
        {
          "output_type": "stream",
          "text": [
            "--2021-05-12 18:47:31--  https://download.pytorch.org/tutorial/data.zip\n",
            "Resolving download.pytorch.org (download.pytorch.org)... 99.86.33.56, 99.86.33.87, 99.86.33.64, ...\n",
            "Connecting to download.pytorch.org (download.pytorch.org)|99.86.33.56|:443... connected.\n",
            "HTTP request sent, awaiting response... 200 OK\n",
            "Length: 2882130 (2.7M) [application/zip]\n",
            "Saving to: ‘data.zip’\n",
            "\n",
            "data.zip            100%[===================>]   2.75M  --.-KB/s    in 0.04s   \n",
            "\n",
            "2021-05-12 18:47:31 (67.9 MB/s) - ‘data.zip’ saved [2882130/2882130]\n",
            "\n"
          ],
          "name": "stdout"
        }
      ]
    },
    {
      "cell_type": "code",
      "metadata": {
        "colab": {
          "base_uri": "https://localhost:8080/"
        },
        "id": "qng3p34fzR93",
        "outputId": "36db5ee1-2b0c-45f0-ba39-b5b331191adb"
      },
      "source": [
        "!unzip data.zip"
      ],
      "execution_count": null,
      "outputs": [
        {
          "output_type": "stream",
          "text": [
            "Archive:  data.zip\n",
            "   creating: data/\n",
            "  inflating: data/eng-fra.txt        \n",
            "   creating: data/names/\n",
            "  inflating: data/names/Arabic.txt   \n",
            "  inflating: data/names/Chinese.txt  \n",
            "  inflating: data/names/Czech.txt    \n",
            "  inflating: data/names/Dutch.txt    \n",
            "  inflating: data/names/English.txt  \n",
            "  inflating: data/names/French.txt   \n",
            "  inflating: data/names/German.txt   \n",
            "  inflating: data/names/Greek.txt    \n",
            "  inflating: data/names/Irish.txt    \n",
            "  inflating: data/names/Italian.txt  \n",
            "  inflating: data/names/Japanese.txt  \n",
            "  inflating: data/names/Korean.txt   \n",
            "  inflating: data/names/Polish.txt   \n",
            "  inflating: data/names/Portuguese.txt  \n",
            "  inflating: data/names/Russian.txt  \n",
            "  inflating: data/names/Scottish.txt  \n",
            "  inflating: data/names/Spanish.txt  \n",
            "  inflating: data/names/Vietnamese.txt  \n"
          ],
          "name": "stdout"
        }
      ]
    },
    {
      "cell_type": "code",
      "metadata": {
        "colab": {
          "base_uri": "https://localhost:8080/"
        },
        "id": "fEzTbBF5zVE4",
        "outputId": "59f0206d-059d-423a-deec-3bbbc65f8106"
      },
      "source": [
        "!wc -l data/eng-fra.txt"
      ],
      "execution_count": null,
      "outputs": [
        {
          "output_type": "stream",
          "text": [
            "135842 data/eng-fra.txt\n"
          ],
          "name": "stdout"
        }
      ]
    },
    {
      "cell_type": "code",
      "metadata": {
        "colab": {
          "base_uri": "https://localhost:8080/"
        },
        "id": "h8kamhi1fJRJ",
        "outputId": "4930e5bd-89c6-49ba-bb04-03b4892fb833"
      },
      "source": [
        "! head data/eng-fra.txt"
      ],
      "execution_count": null,
      "outputs": [
        {
          "output_type": "stream",
          "text": [
            "Go.\tVa !\n",
            "Run!\tCours !\n",
            "Run!\tCourez !\n",
            "Wow!\tÇa alors !\n",
            "Fire!\tAu feu !\n",
            "Help!\tÀ l'aide !\n",
            "Jump.\tSaute.\n",
            "Stop!\tÇa suffit !\n",
            "Stop!\tStop !\n",
            "Stop!\tArrête-toi !\n"
          ],
          "name": "stdout"
        }
      ]
    },
    {
      "cell_type": "markdown",
      "metadata": {
        "id": "6pAoNlcCkf92"
      },
      "source": [
        "Делать предобработку будем по аналогии с char-level RNN-ками из предыдущих туториалов, только на этот раз нам важно отдельно запариться с EOS (end-of-sequence) — специальным токеном, который сеть будет генерировать при окончании генерации предложения."
      ]
    },
    {
      "cell_type": "code",
      "metadata": {
        "id": "zYgxYCIZkf93"
      },
      "source": [
        "SOS_token = 0\n",
        "EOS_token = 1\n",
        "\n",
        "\n",
        "class Lang:\n",
        "    def __init__(self, name):\n",
        "        self.name = name\n",
        "        self.word2index = {}\n",
        "        self.word2count = {}\n",
        "        self.index2word = {0: \"SOS\", 1: \"EOS\"}\n",
        "        self.n_words = 2  # Count SOS and EOS\n",
        "\n",
        "    def addSentence(self, sentence):\n",
        "        for word in sentence.split(' '):\n",
        "            self.addWord(word)\n",
        "\n",
        "    def addWord(self, word):\n",
        "        if word not in self.word2index:\n",
        "            self.word2index[word] = self.n_words\n",
        "            self.word2count[word] = 1\n",
        "            self.index2word[self.n_words] = word\n",
        "            self.n_words += 1\n",
        "        else:\n",
        "            self.word2count[word] += 1\n",
        "            \n",
        "    def __repr__(self):\n",
        "        most_popular_words = sorted(\n",
        "            self.word2count.keys(), key=lambda word: self.word2count[word], reverse=True\n",
        "        )[:10]\n",
        "        most_popular_words = \", \".join(most_popular_words)\n",
        "        return f\"Language: {self.name} | Num words: {self.n_words} | Most popular: {most_popular_words}\""
      ],
      "execution_count": null,
      "outputs": []
    },
    {
      "cell_type": "markdown",
      "metadata": {
        "id": "G--d0a55kf95"
      },
      "source": [
        "Все файлы в юникоде. Чтобы  облегчить нам работу, мы переведем все в ASCII, сделаем lowercase и выкинем большинство пунктуации."
      ]
    },
    {
      "cell_type": "code",
      "metadata": {
        "id": "ygu9l499kf96"
      },
      "source": [
        "# \"hello!\" -> hello, ! \n",
        "\n",
        "def unicodeToAscii(s):\n",
        "    return ''.join(\n",
        "        c for c in unicodedata.normalize('NFD', s)\n",
        "        if unicodedata.category(c) != 'Mn'\n",
        "    )\n",
        "\n",
        "def normalizeString(s):\n",
        "    s = unicodeToAscii(s.lower().strip())\n",
        "    s = re.sub(r\"([.!?])\", r\" \\1\", s)\n",
        "    s = re.sub(r\"[^a-zA-Z.!?]+\", r\" \", s)\n",
        "    return s"
      ],
      "execution_count": null,
      "outputs": []
    },
    {
      "cell_type": "markdown",
      "metadata": {
        "id": "nExIwuorkf98"
      },
      "source": [
        "При чтении данных разделим файл на строки, а строки на пары.\n",
        "\n",
        "\n"
      ]
    },
    {
      "cell_type": "code",
      "metadata": {
        "id": "kR6MaACekf99"
      },
      "source": [
        "def readLangs(lang1, lang2, reverse=False):\n",
        "    print(\"Reading lines...\")\n",
        "\n",
        "    # Read the file and split into lines\n",
        "    lines = open('data/%s-%s.txt' % (lang1, lang2), encoding='utf-8').\\\n",
        "        read().strip().split('\\n')\n",
        "\n",
        "    # Split every line into pairs and normalize\n",
        "    pairs = [[normalizeString(s) for s in l.split('\\t')] for l in lines]\n",
        "\n",
        "    # Reverse pairs, make Lang instances\n",
        "    if reverse:\n",
        "        pairs = [list(reversed(p)) for p in pairs]\n",
        "        input_lang = Lang(lang2)\n",
        "        output_lang = Lang(lang1)\n",
        "    else:\n",
        "        input_lang = Lang(lang1)\n",
        "        output_lang = Lang(lang2)\n",
        "\n",
        "    return input_lang, output_lang, pairs"
      ],
      "execution_count": null,
      "outputs": []
    },
    {
      "cell_type": "markdown",
      "metadata": {
        "id": "byoIUUdFkf9_"
      },
      "source": [
        "Данных у нас **много**, но мы сейчас хотим обучить что-нибудь по-быстрому, поэтому оставим оттуда только короткие и простые предложения — с длиной до 10 слов (включая пунктуацию)."
      ]
    },
    {
      "cell_type": "code",
      "metadata": {
        "id": "5rE0V5VGkf-A"
      },
      "source": [
        "MAX_LENGTH = 10\n",
        "\n",
        "eng_prefixes = (\n",
        "    \"i am \", \"i m \",\n",
        "    \"he is\", \"he s \",\n",
        "    \"she is\", \"she s \",\n",
        "    \"you are\", \"you re \",\n",
        "    \"we are\", \"we re \",\n",
        "    \"they are\", \"they re \"\n",
        ")\n",
        "\n",
        "\n",
        "def filterPair(p):\n",
        "    return len(p[0].split(' ')) < MAX_LENGTH and \\\n",
        "        len(p[1].split(' ')) < MAX_LENGTH and \\\n",
        "        p[1].startswith(eng_prefixes)\n",
        "\n",
        "\n",
        "def filterPairs(pairs):\n",
        "    return [pair for pair in pairs if filterPair(pair)]"
      ],
      "execution_count": null,
      "outputs": []
    },
    {
      "cell_type": "markdown",
      "metadata": {
        "id": "mSo1cu0rkf-C"
      },
      "source": [
        "Полный процесс такой:\n",
        "\n",
        "- Считать текстовый файл, просплитить по линиям, а затем по парам.\n",
        "- Нормализовать текст, профильтровать по длине.\n",
        "- Сделать готовые списки слов из сырых предложений в каждом языке."
      ]
    },
    {
      "cell_type": "code",
      "metadata": {
        "colab": {
          "base_uri": "https://localhost:8080/"
        },
        "id": "1G_BKtnukf-D",
        "outputId": "36e8db7b-774f-40a2-def5-4629c196226b"
      },
      "source": [
        "def prepareData(lang1, lang2, reverse=False):\n",
        "    input_lang, output_lang, pairs = readLangs(lang1, lang2, reverse)\n",
        "    print(\"Read %s sentence pairs\" % len(pairs))\n",
        "    pairs = filterPairs(pairs)\n",
        "    print(\"Trimmed to %s sentence pairs\" % len(pairs))\n",
        "    print(\"Counting words...\")\n",
        "    for pair in pairs:\n",
        "        input_lang.addSentence(pair[0])\n",
        "        output_lang.addSentence(pair[1])\n",
        "    print(\"Counted words:\")\n",
        "    print(input_lang.name, input_lang.n_words)\n",
        "    print(output_lang.name, output_lang.n_words)\n",
        "    return input_lang, output_lang, pairs\n",
        "\n",
        "\n",
        "input_lang, output_lang, pairs = prepareData('eng', 'fra', True)\n",
        "print(random.choice(pairs))"
      ],
      "execution_count": null,
      "outputs": [
        {
          "output_type": "stream",
          "text": [
            "Reading lines...\n",
            "Read 135842 sentence pairs\n",
            "Trimmed to 10599 sentence pairs\n",
            "Counting words...\n",
            "Counted words:\n",
            "fra 4345\n",
            "eng 2803\n",
            "['je suis sidere .', 'i m stunned .']\n"
          ],
          "name": "stdout"
        }
      ]
    },
    {
      "cell_type": "code",
      "metadata": {
        "colab": {
          "base_uri": "https://localhost:8080/"
        },
        "id": "HrZ6mb1AfJRL",
        "outputId": "9ecc1f0b-24c1-46bc-fe95-bbc0fa2c4930"
      },
      "source": [
        "input_lang"
      ],
      "execution_count": null,
      "outputs": [
        {
          "output_type": "execute_result",
          "data": {
            "text/plain": [
              "Language: fra | Num words: 4345 | Most popular: ., je, suis, est, vous, pas, de, il, nous, tu"
            ]
          },
          "metadata": {
            "tags": []
          },
          "execution_count": 15
        }
      ]
    },
    {
      "cell_type": "code",
      "metadata": {
        "colab": {
          "base_uri": "https://localhost:8080/"
        },
        "id": "w1McY4a2fJRL",
        "outputId": "ce9ca05d-f5fd-410d-a120-a42abe6cbaa3"
      },
      "source": [
        "output_lang"
      ],
      "execution_count": null,
      "outputs": [
        {
          "output_type": "execute_result",
          "data": {
            "text/plain": [
              "Language: eng | Num words: 2803 | Most popular: ., i, re, you, m, he, not, is, a, to"
            ]
          },
          "metadata": {
            "tags": []
          },
          "execution_count": 16
        }
      ]
    },
    {
      "cell_type": "code",
      "metadata": {
        "colab": {
          "base_uri": "https://localhost:8080/"
        },
        "id": "h9KPbYdwfJRM",
        "outputId": "0ba09637-14d3-49ad-e6f3-95ba16d3013f"
      },
      "source": [
        "len(pairs)"
      ],
      "execution_count": null,
      "outputs": [
        {
          "output_type": "execute_result",
          "data": {
            "text/plain": [
              "10599"
            ]
          },
          "metadata": {
            "tags": []
          },
          "execution_count": 17
        }
      ]
    },
    {
      "cell_type": "code",
      "metadata": {
        "colab": {
          "base_uri": "https://localhost:8080/"
        },
        "id": "aFuRIIC2fJRM",
        "outputId": "26b98877-3b61-4a4a-f0df-d9ed877df113"
      },
      "source": [
        "pairs[24]"
      ],
      "execution_count": null,
      "outputs": [
        {
          "output_type": "execute_result",
          "data": {
            "text/plain": [
              "['je vais bien .', 'i m fine .']"
            ]
          },
          "metadata": {
            "tags": []
          },
          "execution_count": 18
        }
      ]
    },
    {
      "cell_type": "markdown",
      "metadata": {
        "id": "CmijlK-akf-G"
      },
      "source": [
        "![Screenshot%202020-12-19%20at%2016.44.09.png](attachment:Screenshot%202020-12-19%20at%2016.44.09.png)The Seq2Seq Model\n",
        "=================\n",
        "\n",
        "A Recurrent Neural Network, or RNN, is a network that operates on a\n",
        "sequence and uses its own output as input for subsequent steps.\n",
        "\n",
        "A `Sequence to Sequence network <https://arxiv.org/abs/1409.3215>`__, or\n",
        "seq2seq network, or `Encoder Decoder\n",
        "network <https://arxiv.org/pdf/1406.1078v3.pdf>`__, is a model\n",
        "consisting of two RNNs called the encoder and decoder. The encoder reads\n",
        "an input sequence and outputs a single vector, and the decoder reads\n",
        "that vector to produce an output sequence.\n",
        "\n",
        "\n",
        "Unlike sequence prediction with a single RNN, where every input\n",
        "corresponds to an output, the seq2seq model frees us from sequence\n",
        "length and order, which makes it ideal for translation between two\n",
        "languages.\n",
        "\n",
        "Consider the sentence \"Je ne suis pas le chat noir\" → \"I am not the\n",
        "black cat\". Most of the words in the input sentence have a direct\n",
        "translation in the output sentence, but are in slightly different\n",
        "orders, e.g. \"chat noir\" and \"black cat\". Because of the \"ne/pas\"\n",
        "construction there is also one more word in the input sentence. It would\n",
        "be difficult to produce a correct translation directly from the sequence\n",
        "of input words.\n",
        "\n",
        "With a seq2seq model the encoder creates a single vector which, in the\n",
        "ideal case, encodes the \"meaning\" of the input sequence into a single\n",
        "vector — a single point in some N dimensional space of sentences.\n",
        "\n",
        "\n"
      ]
    },
    {
      "cell_type": "markdown",
      "metadata": {
        "id": "UzGBS-alkf-H"
      },
      "source": [
        "![Screenshot%202020-12-19%20at%2016.44.54.png](attachment:Screenshot%202020-12-19%20at%2016.44.54.png)The Encoder\n",
        "-----------\n",
        "\n",
        "The encoder of a seq2seq network is a RNN that outputs some value for\n",
        "every word from the input sentence. For every input word the encoder\n",
        "outputs a vector and a hidden state, and uses the hidden state for the\n",
        "next input word.\n",
        "\n",
        "\n"
      ]
    },
    {
      "cell_type": "code",
      "metadata": {
        "id": "qpcrvvXakf-I"
      },
      "source": [
        "class EncoderRNN(nn.Module):\n",
        "    def __init__(self, input_size, hidden_size):\n",
        "        super().__init__()\n",
        "        self.hidden_size = hidden_size\n",
        "        # num_embedding = vocab_size_fra\n",
        "        self.embedder = nn.Embedding(input_size, hidden_size)\n",
        "        self.gru = nn.GRU(hidden_size, hidden_size)\n",
        "\n",
        "    def forward(self, input, hidden):\n",
        "        # (batch_size, num_words) -> (batch_size, num_words, dim_1)\n",
        "        embeddings = self.embedder(input).view(1, 1, -1)\n",
        "        # (batch_size, num_words, dim_2)\n",
        "        output, hidden = self.gru(embeddings, hidden)\n",
        "        return output, hidden\n",
        "\n",
        "    def initHidden(self):\n",
        "        return torch.zeros(1, 1, self.hidden_size, device=device)"
      ],
      "execution_count": null,
      "outputs": []
    },
    {
      "cell_type": "code",
      "metadata": {
        "id": "QoWSf2ngfJRN"
      },
      "source": [
        "tokens = torch.randint(0, 1000, size=(128, 40))\n",
        "embedder = nn.Embedding(1000, 128)  # здесь лежит матрица"
      ],
      "execution_count": null,
      "outputs": []
    },
    {
      "cell_type": "code",
      "metadata": {
        "id": "1tXyQQWcfJRN"
      },
      "source": [
        "onehot = torch.nn.functional.one_hot(tokens, num_classes=1000)"
      ],
      "execution_count": null,
      "outputs": []
    },
    {
      "cell_type": "code",
      "metadata": {
        "id": "fSVNPXxAfJRN"
      },
      "source": [
        "embeddingds_first_way = embedder(tokens)"
      ],
      "execution_count": null,
      "outputs": []
    },
    {
      "cell_type": "markdown",
      "metadata": {
        "id": "PNZcay6Hkf-K"
      },
      "source": [
        "The Decoder\n",
        "-----------\n",
        "\n",
        "The decoder is another RNN that takes the encoder output vector(s) and\n",
        "outputs a sequence of words to create the translation.\n",
        "\n",
        "\n"
      ]
    },
    {
      "cell_type": "markdown",
      "metadata": {
        "id": "VWJW6eKikf-L"
      },
      "source": [
        "![Screenshot%202020-12-19%20at%2016.45.11.png](attachment:Screenshot%202020-12-19%20at%2016.45.11.png)Simple Decoder\n",
        "^^^^^^^^^^^^^^\n",
        "\n",
        "In the simplest seq2seq decoder we use only last output of the encoder.\n",
        "This last output is sometimes called the *context vector* as it encodes\n",
        "context from the entire sequence. This context vector is used as the\n",
        "initial hidden state of the decoder.\n",
        "\n",
        "At every step of decoding, the decoder is given an input token and\n",
        "hidden state. The initial input token is the start-of-string ``<SOS>``\n",
        "token, and the first hidden state is the context vector (the encoder's\n",
        "last hidden state).\n",
        "\n",
        "\n"
      ]
    },
    {
      "cell_type": "code",
      "metadata": {
        "id": "WtM1ZGRskf-M"
      },
      "source": [
        "class DecoderRNN(nn.Module):\n",
        "    def __init__(self, hidden_size, output_size):\n",
        "        super().__init__()\n",
        "        self.hidden_size = hidden_size\n",
        "\n",
        "        self.embedder = nn.Embedding(output_size, hidden_size)\n",
        "        self.gru = nn.GRU(hidden_size, hidden_size)\n",
        "        self.out = nn.Linear(hidden_size, output_size)\n",
        "        self.softmax = nn.LogSoftmax(dim=1)\n",
        "\n",
        "    def forward(self, input, hidden):\n",
        "        # (batch_size, num_words, dim)\n",
        "        # (1, 1, num_words * dim)\n",
        "        output = self.embedder(input).view(1, 1, -1)\n",
        "        output = F.relu(output)\n",
        "        output, hidden = self.gru(output, hidden)\n",
        "        # (batch_size, num_words, dim) -> (batch_size, num_words, num_classes)\n",
        "        # (batch_size, num_words, vocab_size_eng)\n",
        "        output = self.out(output[0])\n",
        "        output = self.softmax(output)\n",
        "        return output, hidden\n",
        "\n",
        "    def initHidden(self):\n",
        "        return torch.zeros(1, 1, self.hidden_size, device=device)"
      ],
      "execution_count": null,
      "outputs": []
    },
    {
      "cell_type": "markdown",
      "metadata": {
        "id": "YfTzzPptkf-O"
      },
      "source": [
        "I encourage you to train and observe the results of this model, but to\n",
        "save space we'll be going straight for the gold and introducing the\n",
        "Attention Mechanism.\n",
        "\n",
        "\n"
      ]
    },
    {
      "cell_type": "markdown",
      "metadata": {
        "id": "xNllTJbIkf-P"
      },
      "source": [
        "![Screenshot%202020-12-19%20at%2016.45.28.png](attachment:Screenshot%202020-12-19%20at%2016.45.28.png)Attention Decoder\n",
        "^^^^^^^^^^^^^^^^^\n",
        "\n",
        "If only the context vector is passed betweeen the encoder and decoder,\n",
        "that single vector carries the burden of encoding the entire sentence.\n",
        "\n",
        "Attention allows the decoder network to \"focus\" on a different part of\n",
        "the encoder's outputs for every step of the decoder's own outputs. First\n",
        "we calculate a set of *attention weights*. These will be multiplied by\n",
        "the encoder output vectors to create a weighted combination. The result\n",
        "(called ``attn_applied`` in the code) should contain information about\n",
        "that specific part of the input sequence, and thus help the decoder\n",
        "choose the right output words.\n",
        "\n",
        "Calculating the attention weights is done with another feed-forward\n",
        "layer ``attn``, using the decoder's input and hidden state as inputs.\n",
        "Because there are sentences of all sizes in the training data, to\n",
        "actually create and train this layer we have to choose a maximum\n",
        "sentence length (input length, for encoder outputs) that it can apply\n",
        "to. Sentences of the maximum length will use all the attention weights,\n",
        "while shorter sentences will only use the first few.\n",
        "\n",
        "\n"
      ]
    },
    {
      "cell_type": "code",
      "metadata": {
        "id": "a1wiuMhmfJRO"
      },
      "source": [
        "# v^TWm\n",
        "# U^T tanh (W_1 v + W_2 m)"
      ],
      "execution_count": null,
      "outputs": []
    },
    {
      "cell_type": "code",
      "metadata": {
        "id": "LZwO_Gg2kf-P"
      },
      "source": [
        "class AttnDecoderRNN(nn.Module):\n",
        "    def __init__(self, hidden_size, output_size, dropout_p=0.1, max_length=MAX_LENGTH):\n",
        "        super().__init__()\n",
        "        self.hidden_size = hidden_size\n",
        "        self.output_size = output_size\n",
        "        self.dropout_p = dropout_p\n",
        "        self.max_length = max_length\n",
        "\n",
        "        self.embedding = nn.Embedding(self.output_size, self.hidden_size)\n",
        "        self.attn = nn.Linear(self.hidden_size * 2, self.max_length)\n",
        "        self.attn_combine = nn.Linear(self.hidden_size * 2, self.hidden_size)\n",
        "        self.dropout = nn.Dropout(self.dropout_p)\n",
        "        self.gru = nn.GRU(self.hidden_size, self.hidden_size)\n",
        "        self.out = nn.Linear(self.hidden_size, self.output_size)\n",
        "\n",
        "    def forward(self, input, hidden, encoder_outputs):\n",
        "        embedded = self.embedding(input).view(1, 1, -1)\n",
        "        embedded = self.dropout(embedded)\n",
        "\n",
        "        attn_weights = F.softmax(\n",
        "            self.attn(\n",
        "                torch.cat((embedded[0], hidden[0]), 1)\n",
        "            ), \n",
        "            dim=1\n",
        "        )\n",
        "        attn_applied = torch.bmm(\n",
        "            attn_weights.unsqueeze(0),\n",
        "            encoder_outputs.unsqueeze(0)\n",
        "        )\n",
        "\n",
        "        output = torch.cat((embedded[0], attn_applied[0]), 1)\n",
        "        output = self.attn_combine(output).unsqueeze(0)\n",
        "\n",
        "        output = F.relu(output)\n",
        "        output, hidden = self.gru(output, hidden)\n",
        "\n",
        "        output = F.log_softmax(self.out(output[0]), dim=1)\n",
        "        return output, hidden, attn_weights\n",
        "\n",
        "    def initHidden(self):\n",
        "        return torch.zeros(1, 1, self.hidden_size, device=device)"
      ],
      "execution_count": null,
      "outputs": []
    },
    {
      "cell_type": "markdown",
      "metadata": {
        "id": "nLtuThIQkf-R"
      },
      "source": [
        "<div class=\"alert alert-info\"><h4>Note</h4><p>There are other forms of attention that work around the length\n",
        "  limitation by using a relative position approach. Read about \"local\n",
        "  attention\" in `Effective Approaches to Attention-based Neural Machine\n",
        "  Translation <https://arxiv.org/abs/1508.04025>`__.</p></div>\n",
        "\n",
        "Training\n",
        "========\n",
        "\n",
        "Preparing Training Data\n",
        "-----------------------\n",
        "\n",
        "To train, for each pair we will need an input tensor (indexes of the\n",
        "words in the input sentence) and target tensor (indexes of the words in\n",
        "the target sentence). While creating these vectors we will append the\n",
        "EOS token to both sequences.\n",
        "\n",
        "\n"
      ]
    },
    {
      "cell_type": "code",
      "metadata": {
        "id": "Nmb8OwO7kf-S"
      },
      "source": [
        "def indexesFromSentence(lang, sentence):\n",
        "    return [lang.word2index[word] for word in sentence.split(' ')]\n",
        "\n",
        "\n",
        "def tensorFromSentence(lang, sentence):\n",
        "    indexes = indexesFromSentence(lang, sentence)\n",
        "    indexes.append(EOS_token)\n",
        "    return torch.tensor(indexes, dtype=torch.long, device=device).view(-1, 1)\n",
        "\n",
        "\n",
        "def tensorsFromPair(pair):\n",
        "    input_tensor = tensorFromSentence(input_lang, pair[0])\n",
        "    target_tensor = tensorFromSentence(output_lang, pair[1])\n",
        "    return (input_tensor, target_tensor)"
      ],
      "execution_count": null,
      "outputs": []
    },
    {
      "cell_type": "markdown",
      "metadata": {
        "id": "g3OzldY0kf-U"
      },
      "source": [
        "Training the Model\n",
        "------------------\n",
        "\n",
        "To train we run the input sentence through the encoder, and keep track\n",
        "of every output and the latest hidden state. Then the decoder is given\n",
        "the ``<SOS>`` token as its first input, and the last hidden state of the\n",
        "encoder as its first hidden state.\n",
        "\n",
        "\"Teacher forcing\" is the concept of using the real target outputs as\n",
        "each next input, instead of using the decoder's guess as the next input.\n",
        "Using teacher forcing causes it to converge faster but `when the trained\n",
        "network is exploited, it may exhibit\n",
        "instability <http://minds.jacobs-university.de/sites/default/files/uploads/papers/ESNTutorialRev.pdf>`__.\n",
        "\n",
        "You can observe outputs of teacher-forced networks that read with\n",
        "coherent grammar but wander far from the correct translation -\n",
        "intuitively it has learned to represent the output grammar and can \"pick\n",
        "up\" the meaning once the teacher tells it the first few words, but it\n",
        "has not properly learned how to create the sentence from the translation\n",
        "in the first place.\n",
        "\n",
        "Because of the freedom PyTorch's autograd gives us, we can randomly\n",
        "choose to use teacher forcing or not with a simple if statement. Turn\n",
        "``teacher_forcing_ratio`` up to use more of it.\n",
        "\n",
        "\n"
      ]
    },
    {
      "cell_type": "code",
      "metadata": {
        "id": "na-c3f0nkf-V"
      },
      "source": [
        "teacher_forcing_ratio = 0.5\n",
        "\n",
        "\n",
        "def train(\n",
        "    input_tensor, \n",
        "    target_tensor,\n",
        "    encoder, \n",
        "    decoder, \n",
        "    encoder_optimizer,\n",
        "    decoder_optimizer, \n",
        "    criterion,\n",
        "    max_length=MAX_LENGTH\n",
        "):\n",
        "    encoder_hidden = encoder.initHidden()\n",
        "\n",
        "    encoder_optimizer.zero_grad()\n",
        "    decoder_optimizer.zero_grad()\n",
        "\n",
        "    input_length = input_tensor.size(0)\n",
        "    target_length = target_tensor.size(0)\n",
        "\n",
        "    encoder_outputs = torch.zeros(max_length, encoder.hidden_size, device=device)\n",
        "\n",
        "    loss = 0\n",
        "\n",
        "    for ei in range(input_length):\n",
        "        encoder_output, encoder_hidden = encoder(\n",
        "            input_tensor[ei], encoder_hidden)\n",
        "        encoder_outputs[ei] = encoder_output[0, 0]\n",
        "\n",
        "    decoder_input = torch.tensor([[SOS_token]], device=device)\n",
        "    decoder_hidden = encoder_hidden\n",
        "\n",
        "    use_teacher_forcing = True if random.random() < teacher_forcing_ratio else False\n",
        "\n",
        "    if use_teacher_forcing:\n",
        "        # Teacher forcing: Feed the target as the next input\n",
        "        # y_true: [sos, i, love, pizza, eos]\n",
        "        for di in range(target_length):\n",
        "            decoder_output, decoder_hidden, decoder_attention = decoder(\n",
        "                decoder_input, decoder_hidden, encoder_outputs)\n",
        "            # [0.9, 0.1, 0.0]\n",
        "            # [1, 0, 0]\n",
        "            loss += criterion(decoder_output, target_tensor[di])\n",
        "            decoder_input = target_tensor[di]  # Teacher forcing\n",
        "\n",
        "    else:\n",
        "        # Without teacher forcing: use its own predictions as the next input\n",
        "        for di in range(target_length):\n",
        "            decoder_output, decoder_hidden, decoder_attention = decoder(\n",
        "                decoder_input, decoder_hidden, encoder_outputs)\n",
        "            # beam_search is betters\n",
        "            topv, topi = decoder_output.topk(1)\n",
        "            decoder_input = topi.squeeze().detach()  # detach from history as input\n",
        "\n",
        "            loss += criterion(decoder_output, target_tensor[di])\n",
        "            if decoder_input.item() == EOS_token:\n",
        "                # y_true: [sos, i, eos]\n",
        "                # [sos, i, eos, love]\n",
        "                break\n",
        "\n",
        "    loss.backward()\n",
        "\n",
        "    encoder_optimizer.step()\n",
        "    decoder_optimizer.step()\n",
        "\n",
        "    return loss.item() / target_length"
      ],
      "execution_count": null,
      "outputs": []
    },
    {
      "cell_type": "markdown",
      "metadata": {
        "id": "pfmlhEzDkf-X"
      },
      "source": [
        "This is a helper function to print time elapsed and estimated time\n",
        "remaining given the current time and progress %.\n",
        "\n",
        "\n"
      ]
    },
    {
      "cell_type": "code",
      "metadata": {
        "id": "WNbWUTxfkf-Y"
      },
      "source": [
        "import time\n",
        "import math\n",
        "\n",
        "\n",
        "def asMinutes(s):\n",
        "    m = math.floor(s / 60)\n",
        "    s -= m * 60\n",
        "    return '%dm %ds' % (m, s)\n",
        "\n",
        "\n",
        "def timeSince(since, percent):\n",
        "    now = time.time()\n",
        "    s = now - since\n",
        "    es = s / (percent)\n",
        "    rs = es - s\n",
        "    return '%s (- %s)' % (asMinutes(s), asMinutes(rs))"
      ],
      "execution_count": null,
      "outputs": []
    },
    {
      "cell_type": "markdown",
      "metadata": {
        "id": "wc8pY8ZCkf-a"
      },
      "source": [
        "The whole training process looks like this:\n",
        "\n",
        "-  Start a timer\n",
        "-  Initialize optimizers and criterion\n",
        "-  Create set of training pairs\n",
        "-  Start empty losses array for plotting\n",
        "\n",
        "Then we call ``train`` many times and occasionally print the progress (%\n",
        "of examples, time so far, estimated time) and average loss.\n",
        "\n",
        "\n"
      ]
    },
    {
      "cell_type": "code",
      "metadata": {
        "id": "skZhUHw1kf-a"
      },
      "source": [
        "def trainIters(encoder, decoder, n_iters, print_every=1000, plot_every=100, learning_rate=0.01):\n",
        "    start = time.time()\n",
        "    plot_losses = []\n",
        "    print_loss_total = 0  # Reset every print_every\n",
        "    plot_loss_total = 0  # Reset every plot_every\n",
        "\n",
        "    encoder_optimizer = optim.SGD(encoder.parameters(), lr=learning_rate)\n",
        "    decoder_optimizer = optim.SGD(decoder.parameters(), lr=learning_rate)\n",
        "    training_pairs = [tensorsFromPair(random.choice(pairs))\n",
        "                      for i in range(n_iters)]\n",
        "    criterion = nn.NLLLoss()\n",
        "\n",
        "    for iter in range(1, n_iters + 1):\n",
        "        training_pair = training_pairs[iter - 1]\n",
        "        input_tensor = training_pair[0]\n",
        "        target_tensor = training_pair[1]\n",
        "\n",
        "        loss = train(input_tensor, target_tensor, encoder,\n",
        "                     decoder, encoder_optimizer, decoder_optimizer, criterion)\n",
        "        print_loss_total += loss\n",
        "        plot_loss_total += loss\n",
        "\n",
        "        if iter % print_every == 0:\n",
        "            print_loss_avg = print_loss_total / print_every\n",
        "            print_loss_total = 0\n",
        "            print('%s (%d %d%%) %.4f' % (timeSince(start, iter / n_iters),\n",
        "                                         iter, iter / n_iters * 100, print_loss_avg))\n",
        "\n",
        "        if iter % plot_every == 0:\n",
        "            plot_loss_avg = plot_loss_total / plot_every\n",
        "            plot_losses.append(plot_loss_avg)\n",
        "            plot_loss_total = 0\n",
        "\n",
        "    showPlot(plot_losses)"
      ],
      "execution_count": null,
      "outputs": []
    },
    {
      "cell_type": "markdown",
      "metadata": {
        "id": "qT4JmR_fkf-d"
      },
      "source": [
        "Plotting results\n",
        "----------------\n",
        "\n",
        "Plotting is done with matplotlib, using the array of loss values\n",
        "``plot_losses`` saved while training.\n",
        "\n",
        "\n"
      ]
    },
    {
      "cell_type": "code",
      "metadata": {
        "id": "Zf3Fhj-5kf-e"
      },
      "source": [
        "import matplotlib.pyplot as plt\n",
        "plt.switch_backend('agg')\n",
        "import matplotlib.ticker as ticker\n",
        "import numpy as np\n",
        "\n",
        "\n",
        "def showPlot(points):\n",
        "    plt.figure()\n",
        "    fig, ax = plt.subplots()\n",
        "    # this locator puts ticks at regular intervals\n",
        "    loc = ticker.MultipleLocator(base=0.2)\n",
        "    ax.yaxis.set_major_locator(loc)\n",
        "    plt.plot(points)"
      ],
      "execution_count": null,
      "outputs": []
    },
    {
      "cell_type": "markdown",
      "metadata": {
        "id": "RgHOJ5Ugkf-j"
      },
      "source": [
        "Evaluation\n",
        "==========\n",
        "\n",
        "Evaluation is mostly the same as training, but there are no targets so\n",
        "we simply feed the decoder's predictions back to itself for each step.\n",
        "Every time it predicts a word we add it to the output string, and if it\n",
        "predicts the EOS token we stop there. We also store the decoder's\n",
        "attention outputs for display later.\n",
        "\n",
        "\n"
      ]
    },
    {
      "cell_type": "code",
      "metadata": {
        "id": "XvYgjVG_kf-j"
      },
      "source": [
        "def evaluate(encoder, decoder, sentence, max_length=MAX_LENGTH):\n",
        "    with torch.no_grad():\n",
        "        input_tensor = tensorFromSentence(input_lang, sentence)\n",
        "        input_length = input_tensor.size()[0]\n",
        "        encoder_hidden = encoder.initHidden()\n",
        "\n",
        "        encoder_outputs = torch.zeros(max_length, encoder.hidden_size, device=device)\n",
        "\n",
        "        for ei in range(input_length):\n",
        "            encoder_output, encoder_hidden = encoder(input_tensor[ei],\n",
        "                                                     encoder_hidden)\n",
        "            encoder_outputs[ei] += encoder_output[0, 0]\n",
        "\n",
        "        decoder_input = torch.tensor([[SOS_token]], device=device)  # SOS\n",
        "\n",
        "        decoder_hidden = encoder_hidden\n",
        "\n",
        "        decoded_words = []\n",
        "        decoder_attentions = torch.zeros(max_length, max_length)\n",
        "\n",
        "        for di in range(max_length):\n",
        "            decoder_output, decoder_hidden, decoder_attention = decoder(\n",
        "                decoder_input, decoder_hidden, encoder_outputs)\n",
        "            decoder_attentions[di] = decoder_attention.data\n",
        "            topv, topi = decoder_output.data.topk(1)\n",
        "            if topi.item() == EOS_token:\n",
        "                decoded_words.append('<EOS>')\n",
        "                break\n",
        "            else:\n",
        "                decoded_words.append(output_lang.index2word[topi.item()])\n",
        "\n",
        "            decoder_input = topi.squeeze().detach()\n",
        "\n",
        "        return decoded_words, decoder_attentions[:di + 1]"
      ],
      "execution_count": null,
      "outputs": []
    },
    {
      "cell_type": "markdown",
      "metadata": {
        "id": "K-Xly1n3kf-l"
      },
      "source": [
        "We can evaluate random sentences from the training set and print out the\n",
        "input, target, and output to make some subjective quality judgements:\n",
        "\n",
        "\n"
      ]
    },
    {
      "cell_type": "code",
      "metadata": {
        "id": "58m1z4kJkf-m"
      },
      "source": [
        "def evaluateRandomly(encoder, decoder, n=10):\n",
        "    for i in range(n):\n",
        "        pair = random.choice(pairs)\n",
        "        print('>', pair[0])\n",
        "        print('=', pair[1])\n",
        "        output_words, attentions = evaluate(encoder, decoder, pair[0])\n",
        "        output_sentence = ' '.join(output_words)\n",
        "        print('<', output_sentence)\n",
        "        print('')"
      ],
      "execution_count": null,
      "outputs": []
    },
    {
      "cell_type": "markdown",
      "metadata": {
        "id": "mrSEC280kf-o"
      },
      "source": [
        "Training and Evaluating\n",
        "=======================\n",
        "\n",
        "With all these helper functions in place (it looks like extra work, but\n",
        "it makes it easier to run multiple experiments) we can actually\n",
        "initialize a network and start training.\n",
        "\n",
        "Remember that the input sentences were heavily filtered. For this small\n",
        "dataset we can use relatively small networks of 256 hidden nodes and a\n",
        "single GRU layer. After about 40 minutes on a MacBook CPU we'll get some\n",
        "reasonable results.\n",
        "\n",
        ".. Note::\n",
        "   If you run this notebook you can train, interrupt the kernel,\n",
        "   evaluate, and continue training later. Comment out the lines where the\n",
        "   encoder and decoder are initialized and run ``trainIters`` again.\n",
        "\n",
        "\n"
      ]
    },
    {
      "cell_type": "code",
      "metadata": {
        "id": "uBS0Q3gokf-p"
      },
      "source": [
        "hidden_size = 256\n",
        "\n",
        "encoder1 = EncoderRNN(input_lang.n_words, hidden_size).to(device)\n",
        "attn_decoder1 = AttnDecoderRNN(hidden_size, output_lang.n_words, dropout_p=0.1).to(device)\n",
        "\n",
        "trainIters(encoder1, attn_decoder1, 75000, print_every=50)"
      ],
      "execution_count": null,
      "outputs": []
    },
    {
      "cell_type": "code",
      "metadata": {
        "colab": {
          "base_uri": "https://localhost:8080/",
          "height": 737
        },
        "id": "a_wUdnU1kf-s",
        "outputId": "9dbe39ad-7e60-4449-dad1-edee5bafd612"
      },
      "source": [
        "evaluateRandomly(encoder1, attn_decoder1)"
      ],
      "execution_count": null,
      "outputs": [
        {
          "output_type": "stream",
          "text": [
            "> j emploie un nouvel ordinateur .\n",
            "= i am using a new computer .\n",
            "< i m going to a a . <EOS>\n",
            "\n",
            "> ce ne sont pas mes prisonniers .\n",
            "= they re not my prisoners .\n",
            "< i m not my my . <EOS>\n",
            "\n",
            "> vous etes tres braves .\n",
            "= you re very brave .\n",
            "< you re very sophisticated . <EOS>\n",
            "\n",
            "> je suis ici n est ce pas ?\n",
            "= i m here aren t i ?\n",
            "< i m here aren t you ? <EOS>\n",
            "\n",
            "> je ne suis sure de rien .\n",
            "= i m not sure of anything .\n",
            "< i m afraid to see you . <EOS>\n",
            "\n",
            "> tu ne saisis pas .\n",
            "= you re missing the point .\n",
            "< you re not a . <EOS>\n",
            "\n",
            "> t es un drole de gars .\n",
            "= you re a funny guy .\n",
            "< you re a funny . <EOS>\n",
            "\n",
            "> tu analyses trop .\n",
            "= you re over analyzing .\n",
            "< you re too . <EOS>\n",
            "\n",
            "> tu es stupide de lui faire confiance .\n",
            "= you re stupid to trust him .\n",
            "< you re out of me . <EOS>\n",
            "\n",
            "> c est l un de mes voisins .\n",
            "= he is one of my neighbours .\n",
            "< he is one of my . <EOS>\n",
            "\n"
          ],
          "name": "stdout"
        }
      ]
    },
    {
      "cell_type": "markdown",
      "metadata": {
        "id": "T4xW4kg-kf-u"
      },
      "source": [
        "Visualizing Attention\n",
        "---------------------\n",
        "\n",
        "A useful property of the attention mechanism is its highly interpretable\n",
        "outputs. Because it is used to weight specific encoder outputs of the\n",
        "input sequence, we can imagine looking where the network is focused most\n",
        "at each time step.\n",
        "\n",
        "You could simply run ``plt.matshow(attentions)`` to see attention output\n",
        "displayed as a matrix, with the columns being input steps and rows being\n",
        "output steps:\n",
        "\n",
        "\n"
      ]
    },
    {
      "cell_type": "code",
      "metadata": {
        "id": "XuK-lqnc_30r"
      },
      "source": [
        "%matplotlib inline"
      ],
      "execution_count": null,
      "outputs": []
    },
    {
      "cell_type": "code",
      "metadata": {
        "colab": {
          "base_uri": "https://localhost:8080/",
          "height": 275
        },
        "id": "hZLCt827kf-v",
        "outputId": "f6f9d4b9-1b4a-4f83-980e-b73d1273698e"
      },
      "source": [
        "output_words, attentions = evaluate(\n",
        "    encoder1, attn_decoder1, \"je suis trop froid .\")\n",
        "plt.matshow(attentions.numpy())\n",
        "plt.show()"
      ],
      "execution_count": null,
      "outputs": [
        {
          "output_type": "display_data",
          "data": {
            "image/png": "[encoded data removed]",
            "text/plain": [
              "<Figure size 480x288 with 1 Axes>"
            ]
          },
          "metadata": {
            "tags": [],
            "needs_background": "light"
          }
        }
      ]
    },
    {
      "cell_type": "markdown",
      "metadata": {
        "id": "J3H7D1wWkf-x"
      },
      "source": [
        "For a better viewing experience we will do the extra work of adding axes\n",
        "and labels:\n",
        "\n",
        "\n"
      ]
    },
    {
      "cell_type": "code",
      "metadata": {
        "colab": {
          "base_uri": "https://localhost:8080/",
          "height": 1000
        },
        "id": "dI3BNbbVkf-x",
        "outputId": "a40e98f6-26ea-4d49-86ce-6a2d0b2deb6b"
      },
      "source": [
        "def showAttention(input_sentence, output_words, attentions):\n",
        "    # Set up figure with colorbar\n",
        "    fig = plt.figure()\n",
        "    ax = fig.add_subplot(111)\n",
        "    cax = ax.matshow(attentions.numpy(), cmap='bone')\n",
        "    fig.colorbar(cax)\n",
        "\n",
        "    # Set up axes\n",
        "    ax.set_xticklabels([''] + input_sentence.split(' ') +\n",
        "                       ['<EOS>'], rotation=90)\n",
        "    ax.set_yticklabels([''] + output_words)\n",
        "\n",
        "    # Show label at every tick\n",
        "    ax.xaxis.set_major_locator(ticker.MultipleLocator(1))\n",
        "    ax.yaxis.set_major_locator(ticker.MultipleLocator(1))\n",
        "\n",
        "    plt.show()\n",
        "\n",
        "\n",
        "def evaluateAndShowAttention(input_sentence):\n",
        "    output_words, attentions = evaluate(\n",
        "        encoder1, attn_decoder1, input_sentence)\n",
        "    print('input =', input_sentence)\n",
        "    print('output =', ' '.join(output_words))\n",
        "    showAttention(input_sentence, output_words, attentions)\n",
        "\n",
        "\n",
        "evaluateAndShowAttention(\"elle a cinq ans de moins que moi .\")\n",
        "\n",
        "evaluateAndShowAttention(\"elle est trop petit .\")\n",
        "\n",
        "evaluateAndShowAttention(\"je ne crains pas de mourir .\")\n",
        "\n",
        "evaluateAndShowAttention(\"c est un jeune directeur plein de talent .\")"
      ],
      "execution_count": null,
      "outputs": [
        {
          "output_type": "stream",
          "text": [
            "input = elle a cinq ans de moins que moi .\n",
            "output = she is two years than me . <EOS>\n"
          ],
          "name": "stdout"
        },
        {
          "output_type": "stream",
          "text": [
            "/mnt/chatbot_models2/fursov/tasks/ENV/virtualenvs/mlkit-32Y97wqZ-py3.7/lib/python3.7/site-packages/ipykernel_launcher.py:10: UserWarning: FixedFormatter should only be used together with FixedLocator\n",
            "  # Remove the CWD from sys.path while we load stuff.\n",
            "/mnt/chatbot_models2/fursov/tasks/ENV/virtualenvs/mlkit-32Y97wqZ-py3.7/lib/python3.7/site-packages/ipykernel_launcher.py:11: UserWarning: FixedFormatter should only be used together with FixedLocator\n",
            "  # This is added back by InteractiveShellApp.init_path()\n"
          ],
          "name": "stderr"
        },
        {
          "output_type": "display_data",
          "data": {
            "image/png": "[encoded data removed]",
            "text/plain": [
              "<Figure size 432x288 with 2 Axes>"
            ]
          },
          "metadata": {
            "tags": [],
            "needs_background": "light"
          }
        },
        {
          "output_type": "stream",
          "text": [
            "input = elle est trop petit .\n",
            "output = she is too too . <EOS>\n"
          ],
          "name": "stdout"
        },
        {
          "output_type": "display_data",
          "data": {
            "image/png": "[encoded data removed]",
            "text/plain": [
              "<Figure size 432x288 with 2 Axes>"
            ]
          },
          "metadata": {
            "tags": [],
            "needs_background": "light"
          }
        },
        {
          "output_type": "stream",
          "text": [
            "input = je ne crains pas de mourir .\n",
            "output = i m not afraid to <EOS>\n"
          ],
          "name": "stdout"
        },
        {
          "output_type": "display_data",
          "data": {
            "image/png": "[encoded data removed]",
            "text/plain": [
              "<Figure size 432x288 with 2 Axes>"
            ]
          },
          "metadata": {
            "tags": [],
            "needs_background": "light"
          }
        },
        {
          "output_type": "stream",
          "text": [
            "input = c est un jeune directeur plein de talent .\n",
            "output = he is a man man . <EOS>\n"
          ],
          "name": "stdout"
        },
        {
          "output_type": "display_data",
          "data": {
            "image/png": "[encoded data removed]",
            "text/plain": [
              "<Figure size 432x288 with 2 Axes>"
            ]
          },
          "metadata": {
            "tags": [],
            "needs_background": "light"
          }
        }
      ]
    },
    {
      "cell_type": "code",
      "metadata": {
        "id": "PAtmD9bFfJRS"
      },
      "source": [
        "data = [\n",
        "    (\"где поесть?\", \"здесь\"),\n",
        "    (\"что сделать?\", \"ничего\")\n",
        "]\n",
        "\n",
        "# что делать, если такого слова не видели\n",
        "# @fursov"
      ],
      "execution_count": null,
      "outputs": []
    },
    {
      "cell_type": "markdown",
      "metadata": {
        "id": "ACG4Q06bkf-z"
      },
      "source": [
        "Exercises\n",
        "=========\n",
        "\n",
        "-  Try with a different dataset\n",
        "\n",
        "   -  Another language pair\n",
        "   -  Human → Machine (e.g. IOT commands)\n",
        "   -  Chat → Response\n",
        "   -  Question → Answer\n",
        "\n",
        "-  Replace the embeddings with pre-trained word embeddings such as word2vec or\n",
        "   GloVe\n",
        "-  Try with more layers, more hidden units, and more sentences. Compare\n",
        "   the training time and results.\n",
        "-  If you use a translation file where pairs have two of the same phrase\n",
        "   (``I am test \\t I am test``), you can use this as an autoencoder. Try\n",
        "   this:\n",
        "\n",
        "   -  Train as an autoencoder\n",
        "   -  Save only the Encoder network\n",
        "   -  Train a new Decoder for translation from there\n",
        "\n",
        "\n"
      ]
    },
    {
      "cell_type": "markdown",
      "metadata": {
        "id": "GEUGQIDpI4bz"
      },
      "source": [
        "# New Dataset == New Life"
      ]
    },
    {
      "cell_type": "markdown",
      "metadata": {
        "id": "SpLBIn2i6O4i"
      },
      "source": [
        "> Тяжело найти интересный датасет. Я нашёл датасет SQUAD_v2.0 (Текст, вопрос по тексту, ответ на вопрос), но я боюсь, что это слишком сложный датасет, так как надо именно в тексте искать ответы на вопрос. Есть ещё датасет нормализации русского текста (чиселки цифрами в чиселки текстами перевести с учётом форм слов по контексту). Наверное, попробую такой датасет. Он, скорее всего, может быть детерменированно по правилам языка может быть решён, но я попробую через seq2seq. А squad покопаю на досуге. "
      ]
    },
    {
      "cell_type": "code",
      "metadata": {
        "colab": {
          "base_uri": "https://localhost:8080/"
        },
        "id": "zfd7vmeR6N_J",
        "outputId": "2d719d1d-3838-4437-808b-5c26bb2d2fac"
      },
      "source": [
        "import pandas as pd\n",
        "from tqdm import tqdm\n",
        "import itertools\n",
        "from google.colab import drive\n",
        "drive.mount('/content/drive')\n",
        "\n",
        "\n",
        "from __future__ import unicode_literals, print_function, division\n",
        "from io import open\n",
        "import unicodedata\n",
        "import string\n",
        "import re\n",
        "import random\n",
        "import numpy as np\n",
        "import matplotlib.pyplot as plt\n",
        "plt.switch_backend('agg')\n",
        "import matplotlib.ticker as ticker\n",
        "\n",
        "import torch\n",
        "import torch.nn as nn\n",
        "from torch import optim\n",
        "import torch.nn.functional as F\n",
        "\n",
        "device = torch.device(\"cuda:0\" if torch.cuda.is_available() else \"cpu\")"
      ],
      "execution_count": null,
      "outputs": [
        {
          "output_type": "stream",
          "text": [
            "Drive already mounted at /content/drive; to attempt to forcibly remount, call drive.mount(\"/content/drive\", force_remount=True).\n"
          ],
          "name": "stdout"
        }
      ]
    },
    {
      "cell_type": "code",
      "metadata": {
        "id": "8wVsj3b26UQZ"
      },
      "source": [
        "data_table = pd.read_csv('/content/drive/MyDrive/ru_train.csv')"
      ],
      "execution_count": null,
      "outputs": []
    },
    {
      "cell_type": "code",
      "metadata": {
        "colab": {
          "base_uri": "https://localhost:8080/",
          "height": 639
        },
        "id": "XVpqAS_I77I9",
        "outputId": "63bbafcb-40c9-4c25-ccd1-8ff1f24a36fa"
      },
      "source": [
        "data_table.head(20)"
      ],
      "execution_count": null,
      "outputs": [
        {
          "output_type": "execute_result",
          "data": {
            "text/html": [
              "<div>\n",
              "<style scoped>\n",
              "    .dataframe tbody tr th:only-of-type {\n",
              "        vertical-align: middle;\n",
              "    }\n",
              "\n",
              "    .dataframe tbody tr th {\n",
              "        vertical-align: top;\n",
              "    }\n",
              "\n",
              "    .dataframe thead th {\n",
              "        text-align: right;\n",
              "    }\n",
              "</style>\n",
              "<table border=\"1\" class=\"dataframe\">\n",
              "  <thead>\n",
              "    <tr style=\"text-align: right;\">\n",
              "      <th></th>\n",
              "      <th>sentence_id</th>\n",
              "      <th>token_id</th>\n",
              "      <th>class</th>\n",
              "      <th>before</th>\n",
              "      <th>after</th>\n",
              "    </tr>\n",
              "  </thead>\n",
              "  <tbody>\n",
              "    <tr>\n",
              "      <th>0</th>\n",
              "      <td>0</td>\n",
              "      <td>0</td>\n",
              "      <td>PLAIN</td>\n",
              "      <td>По</td>\n",
              "      <td>По</td>\n",
              "    </tr>\n",
              "    <tr>\n",
              "      <th>1</th>\n",
              "      <td>0</td>\n",
              "      <td>1</td>\n",
              "      <td>PLAIN</td>\n",
              "      <td>состоянию</td>\n",
              "      <td>состоянию</td>\n",
              "    </tr>\n",
              "    <tr>\n",
              "      <th>2</th>\n",
              "      <td>0</td>\n",
              "      <td>2</td>\n",
              "      <td>PLAIN</td>\n",
              "      <td>на</td>\n",
              "      <td>на</td>\n",
              "    </tr>\n",
              "    <tr>\n",
              "      <th>3</th>\n",
              "      <td>0</td>\n",
              "      <td>3</td>\n",
              "      <td>DATE</td>\n",
              "      <td>1862 год</td>\n",
              "      <td>тысяча восемьсот шестьдесят второй год</td>\n",
              "    </tr>\n",
              "    <tr>\n",
              "      <th>4</th>\n",
              "      <td>0</td>\n",
              "      <td>4</td>\n",
              "      <td>PUNCT</td>\n",
              "      <td>.</td>\n",
              "      <td>.</td>\n",
              "    </tr>\n",
              "    <tr>\n",
              "      <th>5</th>\n",
              "      <td>1</td>\n",
              "      <td>0</td>\n",
              "      <td>PLAIN</td>\n",
              "      <td>Оснащались</td>\n",
              "      <td>Оснащались</td>\n",
              "    </tr>\n",
              "    <tr>\n",
              "      <th>6</th>\n",
              "      <td>1</td>\n",
              "      <td>1</td>\n",
              "      <td>PLAIN</td>\n",
              "      <td>латными</td>\n",
              "      <td>латными</td>\n",
              "    </tr>\n",
              "    <tr>\n",
              "      <th>7</th>\n",
              "      <td>1</td>\n",
              "      <td>2</td>\n",
              "      <td>PLAIN</td>\n",
              "      <td>рукавицами</td>\n",
              "      <td>рукавицами</td>\n",
              "    </tr>\n",
              "    <tr>\n",
              "      <th>8</th>\n",
              "      <td>1</td>\n",
              "      <td>3</td>\n",
              "      <td>PLAIN</td>\n",
              "      <td>и</td>\n",
              "      <td>и</td>\n",
              "    </tr>\n",
              "    <tr>\n",
              "      <th>9</th>\n",
              "      <td>1</td>\n",
              "      <td>4</td>\n",
              "      <td>PLAIN</td>\n",
              "      <td>сабатонами</td>\n",
              "      <td>сабатонами</td>\n",
              "    </tr>\n",
              "    <tr>\n",
              "      <th>10</th>\n",
              "      <td>1</td>\n",
              "      <td>5</td>\n",
              "      <td>PLAIN</td>\n",
              "      <td>с</td>\n",
              "      <td>с</td>\n",
              "    </tr>\n",
              "    <tr>\n",
              "      <th>11</th>\n",
              "      <td>1</td>\n",
              "      <td>6</td>\n",
              "      <td>PLAIN</td>\n",
              "      <td>не</td>\n",
              "      <td>не</td>\n",
              "    </tr>\n",
              "    <tr>\n",
              "      <th>12</th>\n",
              "      <td>1</td>\n",
              "      <td>7</td>\n",
              "      <td>PLAIN</td>\n",
              "      <td>длинными</td>\n",
              "      <td>длинными</td>\n",
              "    </tr>\n",
              "    <tr>\n",
              "      <th>13</th>\n",
              "      <td>1</td>\n",
              "      <td>8</td>\n",
              "      <td>PLAIN</td>\n",
              "      <td>носками</td>\n",
              "      <td>носками</td>\n",
              "    </tr>\n",
              "    <tr>\n",
              "      <th>14</th>\n",
              "      <td>1</td>\n",
              "      <td>9</td>\n",
              "      <td>PUNCT</td>\n",
              "      <td>.</td>\n",
              "      <td>.</td>\n",
              "    </tr>\n",
              "    <tr>\n",
              "      <th>15</th>\n",
              "      <td>2</td>\n",
              "      <td>0</td>\n",
              "      <td>PLAIN</td>\n",
              "      <td>В</td>\n",
              "      <td>В</td>\n",
              "    </tr>\n",
              "    <tr>\n",
              "      <th>16</th>\n",
              "      <td>2</td>\n",
              "      <td>1</td>\n",
              "      <td>PLAIN</td>\n",
              "      <td>конце</td>\n",
              "      <td>конце</td>\n",
              "    </tr>\n",
              "    <tr>\n",
              "      <th>17</th>\n",
              "      <td>2</td>\n",
              "      <td>2</td>\n",
              "      <td>DATE</td>\n",
              "      <td>1811 года</td>\n",
              "      <td>тысяча восемьсот одиннадцатого года</td>\n",
              "    </tr>\n",
              "    <tr>\n",
              "      <th>18</th>\n",
              "      <td>2</td>\n",
              "      <td>3</td>\n",
              "      <td>PUNCT</td>\n",
              "      <td>,</td>\n",
              "      <td>,</td>\n",
              "    </tr>\n",
              "    <tr>\n",
              "      <th>19</th>\n",
              "      <td>2</td>\n",
              "      <td>4</td>\n",
              "      <td>PLAIN</td>\n",
              "      <td>вследствие</td>\n",
              "      <td>вследствие</td>\n",
              "    </tr>\n",
              "  </tbody>\n",
              "</table>\n",
              "</div>"
            ],
            "text/plain": [
              "    sentence_id  token_id  ...      before                                   after\n",
              "0             0         0  ...          По                                      По\n",
              "1             0         1  ...   состоянию                               состоянию\n",
              "2             0         2  ...          на                                      на\n",
              "3             0         3  ...    1862 год  тысяча восемьсот шестьдесят второй год\n",
              "4             0         4  ...           .                                       .\n",
              "5             1         0  ...  Оснащались                              Оснащались\n",
              "6             1         1  ...     латными                                 латными\n",
              "7             1         2  ...  рукавицами                              рукавицами\n",
              "8             1         3  ...           и                                       и\n",
              "9             1         4  ...  сабатонами                              сабатонами\n",
              "10            1         5  ...           с                                       с\n",
              "11            1         6  ...          не                                      не\n",
              "12            1         7  ...    длинными                                длинными\n",
              "13            1         8  ...     носками                                 носками\n",
              "14            1         9  ...           .                                       .\n",
              "15            2         0  ...           В                                       В\n",
              "16            2         1  ...       конце                                   конце\n",
              "17            2         2  ...   1811 года     тысяча восемьсот одиннадцатого года\n",
              "18            2         3  ...           ,                                       ,\n",
              "19            2         4  ...  вследствие                              вследствие\n",
              "\n",
              "[20 rows x 5 columns]"
            ]
          },
          "metadata": {
            "tags": []
          },
          "execution_count": 3
        }
      ]
    },
    {
      "cell_type": "markdown",
      "metadata": {
        "id": "C3HAGLG6JfHp"
      },
      "source": [
        "> Пристально смотрим на наш датасет. Мы его сейчас немного изменим. Мы возьмём некоторый набор классов (*'class'* column) и в *X* они будут как в *'before'*, а в *target* как в *'after'*. Остальные классы мы оставим без изменений.\n",
        "Какие классы мы изменим:\n",
        "\n",
        "\n",
        "\n",
        "*   **DATE**: 17 июля 2014 -> семнадцатого июля две тысячи четырнадцатого года\n",
        "*   **ORDINAL**: 7-й -> седьмой\n",
        "*   **MEASURE**: 480 с. -> четыреста восемьдесят секунд\n",
        "*   **CARDINAL**: 12 -> двенадцать\n",
        "\n",
        "Всё остальное просто копируем из *before*. Ну и поделим всё по предложениям, конечно же."
      ]
    },
    {
      "cell_type": "code",
      "metadata": {
        "id": "s-CqKpjhNMf3"
      },
      "source": [
        "def build_sentences(dataset, att_classes):\n",
        "    sents_before = []\n",
        "    sents_after = []\n",
        "    for i in tqdm(range(len(dataset))):\n",
        "        if len(sents_before) <= dataset.loc[i, 'sentence_id']:\n",
        "            sents_before.append(['<START>'])\n",
        "            sents_after.append(['<START>'])\n",
        "        cur_id = dataset.loc[i, 'sentence_id']\n",
        "        if dataset.loc[i, 'class'] in att_classes:\n",
        "            sents_before[cur_id].append(str(dataset.loc[i, 'before']))\n",
        "            sents_after[cur_id].append(str(dataset.loc[i, 'after'].lower()))\n",
        "        else:\n",
        "            sents_before[cur_id].append(str(dataset.loc[i, 'before']).lower())\n",
        "            sents_after[cur_id].append(str(dataset.loc[i, 'before']).lower())\n",
        "    for i in range(len(sents_after)):\n",
        "        sents_before[i].append('<END>')\n",
        "        sents_after[i].append('<END>')\n",
        "    return sents_before, sents_after"
      ],
      "execution_count": null,
      "outputs": []
    },
    {
      "cell_type": "code",
      "metadata": {
        "colab": {
          "base_uri": "https://localhost:8080/"
        },
        "id": "rBuZM6saNMch",
        "outputId": "f83374f6-2698-4e1d-af27-b7685510e59f"
      },
      "source": [
        "dataset, target = build_sentences(data_table.loc[:1000000], ['DATE', 'ORDINAL', 'MEASURE', 'CARDINAL'])"
      ],
      "execution_count": null,
      "outputs": [
        {
          "output_type": "stream",
          "text": [
            "100%|██████████| 1000001/1000001 [01:21<00:00, 12284.77it/s]\n"
          ],
          "name": "stderr"
        }
      ]
    },
    {
      "cell_type": "code",
      "metadata": {
        "id": "H-5GMvi1NMac",
        "colab": {
          "base_uri": "https://localhost:8080/"
        },
        "outputId": "f98d838d-ed70-4d30-ceff-368432d693fa"
      },
      "source": [
        "(' '.join(dataset[22]), ' '.join(target[22]))"
      ],
      "execution_count": null,
      "outputs": [
        {
          "output_type": "execute_result",
          "data": {
            "text/plain": [
              "('<START> 7 октября 2010 года территория республики конго отошла к новоучрежденной браззавильской и габонской епархии . <END>',\n",
              " '<START> седьмого октября две тысячи десятого года территория республики конго отошла к новоучрежденной браззавильской и габонской епархии . <END>')"
            ]
          },
          "metadata": {
            "tags": []
          },
          "execution_count": 6
        }
      ]
    },
    {
      "cell_type": "markdown",
      "metadata": {
        "id": "jL7m6U4N-Uk_"
      },
      "source": [
        "> В этой домашке батчей не будет (ну они будут размера 1). Надо написать класс Vocab. Наверное, он будет один общий для dataset и target, так как словари не сильно отличаются по факту."
      ]
    },
    {
      "cell_type": "code",
      "metadata": {
        "id": "8B5HxO6JNMYf"
      },
      "source": [
        "class Vocab:\n",
        "    def __init__(self, data_X, data_y):\n",
        "        dataset = data_X + data_y\n",
        "        self.idx2word = list(set(itertools.chain(*dataset)))\n",
        "        self.idx2word.append('<UNK>')\n",
        "        self.word2idx = {}\n",
        "        for i, word in tqdm(enumerate(self.idx2word)):\n",
        "            self.word2idx[word] = i\n",
        "        self.data_X = [self.tokenize(i) for i in tqdm(data_X)]\n",
        "        self.data_y = [self.tokenize(i) for i in tqdm(data_y)]\n",
        "    \n",
        "    def tokenize(self, sequence):\n",
        "        return [self.word2idx[i] for i in sequence]\n",
        "    \n",
        "    def detokenize(self, sequence):\n",
        "        return [self.idx2word[i] for i in sequence]\n",
        "    \n",
        "    def __getitem__(self, key):\n",
        "        return (self.data_X[key], self.data_y[key])\n",
        "    \n",
        "    def __len__(self):\n",
        "        return len(self.data_X)"
      ],
      "execution_count": null,
      "outputs": []
    },
    {
      "cell_type": "markdown",
      "metadata": {
        "id": "KbCyhOP2aL-x"
      },
      "source": [
        "> Это больше класс датасета получился, чем класс словаря. Ну и ладно"
      ]
    },
    {
      "cell_type": "code",
      "metadata": {
        "id": "xGijylLENMXH",
        "colab": {
          "base_uri": "https://localhost:8080/"
        },
        "outputId": "7b758e2a-04b3-4e7f-9772-de350532f574"
      },
      "source": [
        "data = Vocab(dataset[:1050], target[:1050])"
      ],
      "execution_count": null,
      "outputs": [
        {
          "output_type": "stream",
          "text": [
            "7342it [00:00, 1569950.55it/s]\n",
            "100%|██████████| 1050/1050 [00:00<00:00, 208365.78it/s]\n",
            "100%|██████████| 1050/1050 [00:00<00:00, 244369.06it/s]\n"
          ],
          "name": "stderr"
        }
      ]
    },
    {
      "cell_type": "code",
      "metadata": {
        "colab": {
          "base_uri": "https://localhost:8080/"
        },
        "id": "aMapPr4IMmSt",
        "outputId": "152b3a73-2210-4c06-cd90-0b2124e9598a"
      },
      "source": [
        "len(data.idx2word)"
      ],
      "execution_count": null,
      "outputs": [
        {
          "output_type": "execute_result",
          "data": {
            "text/plain": [
              "7342"
            ]
          },
          "metadata": {
            "tags": []
          },
          "execution_count": 9
        }
      ]
    },
    {
      "cell_type": "code",
      "metadata": {
        "id": "FlGagF7jNMVW",
        "colab": {
          "base_uri": "https://localhost:8080/"
        },
        "outputId": "6212a132-86d4-4d43-f962-f843848a1a61"
      },
      "source": [
        "data.detokenize(data[666][1])"
      ],
      "execution_count": null,
      "outputs": [
        {
          "output_type": "execute_result",
          "data": {
            "text/plain": [
              "['<START>',\n",
              " 'мукополисахаридозы',\n",
              " 'типов',\n",
              " 'три',\n",
              " ',',\n",
              " 'iv',\n",
              " ',',\n",
              " 'vi',\n",
              " ',',\n",
              " 'семь',\n",
              " '.',\n",
              " '<END>']"
            ]
          },
          "metadata": {
            "tags": []
          },
          "execution_count": 10
        }
      ]
    },
    {
      "cell_type": "code",
      "metadata": {
        "id": "P8hQ3sZzYkHY"
      },
      "source": [
        "data_ = pd.read_csv('/content/drive/MyDrive/ru_train.csv')"
      ],
      "execution_count": null,
      "outputs": []
    },
    {
      "cell_type": "code",
      "metadata": {
        "id": "qGtQBFhKYkFQ",
        "colab": {
          "base_uri": "https://localhost:8080/",
          "height": 343
        },
        "outputId": "a0ea7425-7248-402f-d6e0-6333573f6ab9"
      },
      "source": [
        "data_[data_['sentence_id'] == 666]"
      ],
      "execution_count": null,
      "outputs": [
        {
          "output_type": "execute_result",
          "data": {
            "text/html": [
              "<div>\n",
              "<style scoped>\n",
              "    .dataframe tbody tr th:only-of-type {\n",
              "        vertical-align: middle;\n",
              "    }\n",
              "\n",
              "    .dataframe tbody tr th {\n",
              "        vertical-align: top;\n",
              "    }\n",
              "\n",
              "    .dataframe thead th {\n",
              "        text-align: right;\n",
              "    }\n",
              "</style>\n",
              "<table border=\"1\" class=\"dataframe\">\n",
              "  <thead>\n",
              "    <tr style=\"text-align: right;\">\n",
              "      <th></th>\n",
              "      <th>sentence_id</th>\n",
              "      <th>token_id</th>\n",
              "      <th>class</th>\n",
              "      <th>before</th>\n",
              "      <th>after</th>\n",
              "    </tr>\n",
              "  </thead>\n",
              "  <tbody>\n",
              "    <tr>\n",
              "      <th>9045</th>\n",
              "      <td>666</td>\n",
              "      <td>0</td>\n",
              "      <td>PLAIN</td>\n",
              "      <td>Мукополисахаридозы</td>\n",
              "      <td>Мукополисахаридозы</td>\n",
              "    </tr>\n",
              "    <tr>\n",
              "      <th>9046</th>\n",
              "      <td>666</td>\n",
              "      <td>1</td>\n",
              "      <td>PLAIN</td>\n",
              "      <td>типов</td>\n",
              "      <td>типов</td>\n",
              "    </tr>\n",
              "    <tr>\n",
              "      <th>9047</th>\n",
              "      <td>666</td>\n",
              "      <td>2</td>\n",
              "      <td>CARDINAL</td>\n",
              "      <td>III</td>\n",
              "      <td>три</td>\n",
              "    </tr>\n",
              "    <tr>\n",
              "      <th>9048</th>\n",
              "      <td>666</td>\n",
              "      <td>3</td>\n",
              "      <td>PUNCT</td>\n",
              "      <td>,</td>\n",
              "      <td>,</td>\n",
              "    </tr>\n",
              "    <tr>\n",
              "      <th>9049</th>\n",
              "      <td>666</td>\n",
              "      <td>4</td>\n",
              "      <td>LETTERS</td>\n",
              "      <td>IV</td>\n",
              "      <td>i v</td>\n",
              "    </tr>\n",
              "    <tr>\n",
              "      <th>9050</th>\n",
              "      <td>666</td>\n",
              "      <td>5</td>\n",
              "      <td>PUNCT</td>\n",
              "      <td>,</td>\n",
              "      <td>,</td>\n",
              "    </tr>\n",
              "    <tr>\n",
              "      <th>9051</th>\n",
              "      <td>666</td>\n",
              "      <td>6</td>\n",
              "      <td>LETTERS</td>\n",
              "      <td>VI</td>\n",
              "      <td>v i</td>\n",
              "    </tr>\n",
              "    <tr>\n",
              "      <th>9052</th>\n",
              "      <td>666</td>\n",
              "      <td>7</td>\n",
              "      <td>PUNCT</td>\n",
              "      <td>,</td>\n",
              "      <td>,</td>\n",
              "    </tr>\n",
              "    <tr>\n",
              "      <th>9053</th>\n",
              "      <td>666</td>\n",
              "      <td>8</td>\n",
              "      <td>CARDINAL</td>\n",
              "      <td>VII</td>\n",
              "      <td>семь</td>\n",
              "    </tr>\n",
              "    <tr>\n",
              "      <th>9054</th>\n",
              "      <td>666</td>\n",
              "      <td>9</td>\n",
              "      <td>PUNCT</td>\n",
              "      <td>.</td>\n",
              "      <td>.</td>\n",
              "    </tr>\n",
              "  </tbody>\n",
              "</table>\n",
              "</div>"
            ],
            "text/plain": [
              "      sentence_id  token_id     class              before               after\n",
              "9045          666         0     PLAIN  Мукополисахаридозы  Мукополисахаридозы\n",
              "9046          666         1     PLAIN               типов               типов\n",
              "9047          666         2  CARDINAL                 III                 три\n",
              "9048          666         3     PUNCT                   ,                   ,\n",
              "9049          666         4   LETTERS                  IV                 i v\n",
              "9050          666         5     PUNCT                   ,                   ,\n",
              "9051          666         6   LETTERS                  VI                 v i\n",
              "9052          666         7     PUNCT                   ,                   ,\n",
              "9053          666         8  CARDINAL                 VII                семь\n",
              "9054          666         9     PUNCT                   .                   ."
            ]
          },
          "metadata": {
            "tags": []
          },
          "execution_count": 104
        }
      ]
    },
    {
      "cell_type": "code",
      "metadata": {
        "id": "CvT164t3cq2f",
        "colab": {
          "base_uri": "https://localhost:8080/"
        },
        "outputId": "6896be74-d899-4f98-935b-b85d683f6beb"
      },
      "source": [
        "set(data_[data_['before'] == 'IV']['class'])"
      ],
      "execution_count": null,
      "outputs": [
        {
          "output_type": "execute_result",
          "data": {
            "text/plain": [
              "{'LETTERS', 'ORDINAL'}"
            ]
          },
          "metadata": {
            "tags": []
          },
          "execution_count": 105
        }
      ]
    },
    {
      "cell_type": "markdown",
      "metadata": {
        "id": "emQGJ-I1cepJ"
      },
      "source": [
        "> Ну тут даже в исходном датасете не все римские числа были корректно типизированы. Это может сказаться на нашей нейронке. Ладно, продолжаем. Хотя, вроде IV -> 'четыре' нет. Там только порядковые как число определяются."
      ]
    },
    {
      "cell_type": "code",
      "metadata": {
        "id": "zJGwExRxNMRI"
      },
      "source": [
        "class EncoderRNN(nn.Module):\n",
        "    def __init__(self, embedding_dim, hidden_size):\n",
        "        super().__init__()\n",
        "        self.embedding_dim = embedding_dim\n",
        "        self.hidden_size = hidden_size\n",
        "        self.emb = torch.nn.Embedding(len(data.idx2word), embedding_dim)\n",
        "        self.rnn = torch.nn.GRU(input_size=embedding_dim, hidden_size=hidden_size, dropout=0.6)\n",
        "\n",
        "    def forward(self, x, hidden):\n",
        "        embedded = self.emb(x).view(-1, 1, self.embedding_dim) # (seq_len = -1, batch = 1, input_size = embeddin_dim)\n",
        "        output, hidden = self.rnn(embedded, hidden)\n",
        "        return output, hidden\n",
        "\n",
        "    def initHidden(self):\n",
        "        return torch.zeros(1, 1, self.hidden_size, device=device)"
      ],
      "execution_count": null,
      "outputs": []
    },
    {
      "cell_type": "markdown",
      "metadata": {
        "id": "CMhYYroOJavv"
      },
      "source": [
        "> Смотрим, как должен выглядить Decoder с Attention. Самый простой:\n",
        "\n",
        "1.   $v_i = embedding(token_i)$\n",
        "2.   $\\alpha^T_i = v_i\\cdot W\\cdot output_E$\n",
        "3.   $att_i = output_E\\cdot softmax(\\alpha_i)$\n",
        "4.   $hidden_{D, i} = GRU(v_i, att_i, hidden_{D, i - 1})$\n",
        "5.   $Probas_i = softmax(FC\\cdot hidden_{D, i})$\n",
        "\n",
        "Потом можем добавить ещё одну RNN для подсчёта v_i."
      ]
    },
    {
      "cell_type": "code",
      "metadata": {
        "id": "BAp2MatNYkC7"
      },
      "source": [
        "class DecoderRNN(nn.Module):\n",
        "    def __init__(self, embedding_dim, hidden_size):\n",
        "        super().__init__()\n",
        "        self.embedding_dim = embedding_dim\n",
        "        self.hidden_size = hidden_size\n",
        "        self.emb = torch.nn.Embedding(len(data.idx2word), embedding_dim)\n",
        "        self.rnn = torch.nn.GRU(input_size=embedding_dim + hidden_size, hidden_size=hidden_size, dropout=0.6)\n",
        "        self.W = torch.nn.Linear(embedding_dim, hidden_size)\n",
        "        self.FC = torch.nn.Linear(hidden_size, len(data.idx2word))\n",
        "\n",
        "    def forward(self, token, hidden, enc_out): # here goes only one token\n",
        "        # token : (1, 1, 1)\n",
        "        # hidden : (1, 1, hidden_size)\n",
        "        # enc_out : (1, hidden_size, enc_input)\n",
        "        embedded = self.emb(token).view(1, 1, self.embedding_dim) # v_i\n",
        "        att_w = F.softmax(torch.transpose(torch.bmm(self.W(embedded), enc_out), 1, 2), dim=1) # (batch, enc_seq_out, 1)\n",
        "        att = torch.bmm(enc_out, att_w).view(1, 1, -1) # (1, 1, hidden)\n",
        "        x = torch.cat((att, embedded), dim=2) # (1, 1, hidden + embedding)\n",
        "        output, hidden = self.rnn(F.silu(x), hidden)\n",
        "        probas = self.FC(hidden)\n",
        "        return probas, hidden, att_w\n",
        "    "
      ],
      "execution_count": null,
      "outputs": []
    },
    {
      "cell_type": "markdown",
      "metadata": {
        "id": "oyFV9MjvynW_"
      },
      "source": [
        "> теперь обучение...."
      ]
    },
    {
      "cell_type": "code",
      "metadata": {
        "id": "qn6BZSXvYkAg",
        "colab": {
          "base_uri": "https://localhost:8080/"
        },
        "outputId": "b420ff73-ac7c-4828-d2a1-cd0803ae5869"
      },
      "source": [
        "encoder = EncoderRNN(128, 128).to(device)\n",
        "decoder = DecoderRNN(128, 128).to(device)"
      ],
      "execution_count": null,
      "outputs": [
        {
          "output_type": "stream",
          "text": [
            "/usr/local/lib/python3.7/dist-packages/torch/nn/modules/rnn.py:63: UserWarning: dropout option adds dropout after all but last recurrent layer, so non-zero dropout expects num_layers greater than 1, but got dropout=0.6 and num_layers=1\n",
            "  \"num_layers={}\".format(dropout, num_layers))\n"
          ],
          "name": "stderr"
        }
      ]
    },
    {
      "cell_type": "code",
      "metadata": {
        "id": "M3oNP45uYj-K"
      },
      "source": [
        "criterion = torch.nn.CrossEntropyLoss()\n",
        "optimizer_E = torch.optim.Adam(encoder.parameters(), lr=0.0004)\n",
        "optimizer_D = torch.optim.Adam(decoder.parameters(), lr=0.0004)\n",
        "EPOCHS = 50 # 60 epochs is +- enough\n",
        "teacher_forcing_ratio = 0.6"
      ],
      "execution_count": null,
      "outputs": []
    },
    {
      "cell_type": "markdown",
      "metadata": {
        "id": "DyAnywRBCcct"
      },
      "source": [
        "> Я запустил обучение на всём датасете и внезапно понял, что он огромный. Очень. Ожидаемое время одной эпохи - "
      ]
    },
    {
      "cell_type": "code",
      "metadata": {
        "colab": {
          "base_uri": "https://localhost:8080/"
        },
        "id": "YyjOJu3PMezH",
        "outputId": "9fbc736f-7747-433c-a5f1-3575c79252ed"
      },
      "source": [
        "len(data.idx2word)"
      ],
      "execution_count": null,
      "outputs": [
        {
          "output_type": "execute_result",
          "data": {
            "text/plain": [
              "7342"
            ]
          },
          "metadata": {
            "tags": []
          },
          "execution_count": 54
        }
      ]
    },
    {
      "cell_type": "code",
      "metadata": {
        "colab": {
          "base_uri": "https://localhost:8080/"
        },
        "id": "I9-IGFYYYj74",
        "outputId": "f8775300-3482-4571-d090-d9c97f36f4f9"
      },
      "source": [
        "hist_losses = []\n",
        "end_token_id = data.word2idx['<END>']\n",
        "for epoch in range(EPOCHS):\n",
        "    permutation = np.random.permutation(len(data))\n",
        "    true_target = []\n",
        "    predicted_target = []\n",
        "    for j in range(len(data)):\n",
        "        encoder.zero_grad()\n",
        "        decoder.zero_grad()\n",
        "        X, y = data[permutation[j]]\n",
        "\n",
        "        # Take random prefix\n",
        "        sz = len(X)\n",
        "        r_bound = random.randint(max(2, sz // 2), sz - 1) + 1\n",
        "        X = X[:r_bound] + [data.word2idx['<END>']]\n",
        "        y = y[:r_bound] + [data.word2idx['<END>']]\n",
        "\n",
        "        X = torch.tensor(X, device=device).view(1, -1)\n",
        "        # y = torch.tensor(y, device=device).view(1, -1)\n",
        "        hidden = encoder.initHidden()\n",
        "        output_E, hidden = encoder(X, hidden)\n",
        "        # output_E : seq x 1 x hidden_size <-- need reshape\n",
        "        # hidden : 1 x 1 x hidden_size\n",
        "        output_E = torch.swapaxes(output_E, 0, 1)\n",
        "        output_E = torch.swapaxes(output_E, 1, 2)\n",
        "        # output_E : 1 x hidden_size x seq\n",
        "        loss = 0\n",
        "        true_target.append('')\n",
        "        predicted_target.append('')\n",
        "        # print(len(y) - 1)\n",
        "        \n",
        "        use_teacher_forcing = True if random.random() < teacher_forcing_ratio else False\n",
        "        if use_teacher_forcing:\n",
        "            for i in range(len(y) - 1):\n",
        "                token = torch.tensor([y[i]], device=device)\n",
        "                token = token.view(1, 1, 1)\n",
        "\n",
        "                probas, hidden, att_w = decoder(token, hidden, output_E)\n",
        "                # print(probas.view(1, -1).shape)\n",
        "                loss += criterion(probas.view(1, -1), torch.tensor([y[i + 1]], device=device))\n",
        "                true_target[-1] += ' ' + data.idx2word[y[i + 1]]\n",
        "                idx_pred = torch.argmax(torch.squeeze(probas)).detach().cpu().item()\n",
        "                predicted_target[-1] += ' ' + data.idx2word[idx_pred]\n",
        "        else:\n",
        "            token = torch.tensor([y[0]], device=device) \n",
        "            for i in range(len(y) - 1):\n",
        "                token = token.to(device).view(1, 1, 1)\n",
        "\n",
        "                probas, hidden, att_w = decoder(token, hidden, output_E)\n",
        "                # print(probas.view(1, -1).shape)\n",
        "                loss += criterion(probas.view(1, -1), torch.tensor([y[i + 1]], device=device))\n",
        "                true_target[-1] += ' ' + data.idx2word[y[i + 1]]\n",
        "                idx_pred = torch.argmax(torch.squeeze(probas)).detach().cpu().item()\n",
        "                predicted_target[-1] += ' ' + data.idx2word[idx_pred]\n",
        "                token = torch.tensor([idx_pred], device=device)\n",
        "                if idx_pred == end_token_id:\n",
        "                    break\n",
        "        loss.backward()\n",
        "        optimizer_D.step()\n",
        "        optimizer_E.step()\n",
        "        hist_losses.append(loss.detach().cpu().item() / (len(y) - 1))\n",
        "        if (j % 210 == 0):\n",
        "            print(j, np.mean(hist_losses[max(0, j - 42):-1]))\n",
        "    print(f'Epoch {epoch} finished, loss : {hist_losses[-1]:.7f}')\n",
        "    for i in range(1, 2):\n",
        "        print(true_target[-i], predicted_target[-i])\n",
        "    print('================')"
      ],
      "execution_count": null,
      "outputs": [
        {
          "output_type": "stream",
          "text": [
            "/usr/local/lib/python3.7/dist-packages/numpy/core/fromnumeric.py:3373: RuntimeWarning: Mean of empty slice.\n",
            "  out=out, **kwargs)\n",
            "/usr/local/lib/python3.7/dist-packages/numpy/core/_methods.py:170: RuntimeWarning: invalid value encountered in double_scalars\n",
            "  ret = ret.dtype.type(ret / rcount)\n"
          ],
          "name": "stderr"
        },
        {
          "output_type": "stream",
          "text": [
            "0 nan\n",
            "210 6.180996584895361\n",
            "420 6.169732103889494\n",
            "630 6.590951806450275\n",
            "840 5.787517022044737\n",
            "Epoch 0 finished, loss : 3.4263179\n",
            " начальник цос фсб рф андрей ларюшин  в в , , . <END>\n",
            "================\n",
            "0 6.095761981802\n",
            "210 6.129911499687391\n",
            "420 6.097486532490127\n",
            "630 6.071718017836658\n",
            "840 6.037387165868788\n",
            "Epoch 1 finished, loss : 3.9215999\n",
            " энциклопедия туризма кирилла и  проверено ( . <END>\n",
            "================\n",
            "0 6.067619482991958\n",
            "210 6.045388059644612\n",
            "420 6.036047439020831\n",
            "630 5.990507836004399\n",
            "840 5.930082722396339\n",
            "Epoch 2 finished, loss : 4.3863440\n",
            " съемок ) « небо зовет  проверено « » » <END>\n",
            "================\n",
            "0 5.970414654227882\n",
            "210 5.9411951807606345\n",
            "420 5.926149331416791\n",
            "630 5.877812552689321\n",
            "840 5.834530932202376\n",
            "Epoch 3 finished, loss : 5.9016044\n",
            " в четвертую неделю альбом покинул топ - десять , опустившись <END>  в конце , , , , , , , , ,\n",
            "================\n",
            "0 5.881423084228117\n",
            "210 5.8534846097007\n",
            "420 5.82308854381745\n",
            "630 5.778858404049257\n",
            "840 5.728103849541764\n",
            "Epoch 4 finished, loss : 6.6900155\n",
            " альбом получил платиновый статус riaa и в целом положительные отзывы музыкальных критиков и интернет - изданий <END>  на в в на на на на на и и в <END> и <END> <END> <END> <END>\n",
            "================\n",
            "0 5.776653629246798\n",
            "210 5.743305374695434\n",
            "420 5.711690752111908\n",
            "630 5.667810589576324\n",
            "840 5.626440750075734\n",
            "Epoch 5 finished, loss : 6.1660102\n",
            " фудзимото вышел на поле на восемьдесят пятый минуте , заменив сюнсукэ накамуру . <END> <END>  после с на и и , , , , и , <END> <END> <END>\n",
            "================\n",
            "0 5.677811572551831\n",
            "210 5.6434300751170525\n",
            "420 5.610593273546638\n",
            "630 5.56382192612391\n",
            "840 5.51952459038544\n",
            "Epoch 6 finished, loss : 3.4312064\n",
            " — м. : воениздат , тысяча девятьсот восемьдесят семь . — т. один / <END>  — м. : , , . — — — — — .\n",
            "================\n",
            "0 5.567173598361422\n",
            "210 5.533264733125853\n",
            "420 5.497806016793176\n",
            "630 5.452813908317899\n",
            "840 5.410143157784506\n",
            "Epoch 7 finished, loss : 5.5949135\n",
            " кроме e - mail в уатс можно интегрировать <END>  кроме - в в в в в в в\n",
            "================\n",
            "0 5.462562558791765\n",
            "210 5.428706368176906\n",
            "420 5.391024630422544\n",
            "630 5.347113019289956\n",
            "840 5.304802417427101\n",
            "Epoch 8 finished, loss : 4.3626089\n",
            " восемьдесят семь тысяч четыреста сорок два , донецька область , першотравневий р - н , с <END>  кроме , , , , , , , <END> - <END> <END>\n",
            "================\n",
            "0 5.357743463089282\n",
            "210 5.321633067171682\n",
            "420 5.284944049386801\n",
            "630 5.239460865826538\n",
            "840 5.199446080194452\n",
            "Epoch 9 finished, loss : 4.1633785\n",
            " в антропологии термин « первый контакт » ( англ . first contact ) используется для описания первой встречи двух <END>  в составе « « » » » ( ( . ) ( ) <END> <END> <END> <END> <END> <END> <END>\n",
            "================\n",
            "0 5.254579830409657\n",
            "210 5.218603008632395\n",
            "420 5.180460449477838\n",
            "630 5.138396817436781\n",
            "840 5.096604437410235\n",
            "Epoch 10 finished, loss : 2.7159516\n",
            " паранин виктор иванович . <END> <END>  окончил <END> . . <END> <END>\n",
            "================\n",
            "0 5.150973091620856\n",
            "210 5.116906717609418\n",
            "420 5.082218587061711\n",
            "630 5.042987606496287\n",
            "840 4.999758543082639\n",
            "Epoch 11 finished, loss : 5.2683897\n",
            " седьмого октября две тысячи десятого года территория республики конго отошла к новоучрежденной браззавильской и габонской епархии <END>  бабочки была на и и и самолет и и <END> <END> <END>\n",
            "================\n",
            "0 5.0542432608063965\n",
            "210 5.019657345879304\n",
            "420 4.985116629635796\n",
            "630 4.943650025749768\n",
            "840 4.903687817991806\n",
            "Epoch 12 finished, loss : 2.5195453\n",
            " — тысяча пятьсот восемьдесят четыре ) дионисий ( упом . <END>  — ( — . ( англ . <END>\n",
            "================\n",
            "0 4.960038942727191\n",
            "210 4.926039630721081\n",
            "420 4.889188629317352\n",
            "630 4.846533139056468\n",
            "840 4.8082787998016965\n",
            "Epoch 13 finished, loss : 3.0001361\n",
            " три территории : нунавут , северо - западные <END>  самый - : - , а - <END> <END>\n",
            "================\n",
            "0 4.864045902968598\n",
            "210 4.831400049949839\n",
            "420 4.795662896488126\n",
            "630 4.757106896709227\n",
            "840 4.715971032680849\n",
            "Epoch 14 finished, loss : 4.4540990\n",
            " пленка хранится в паспорте агента , который похитили <END>  летом в , , , , в в <END>\n",
            "================\n",
            "0 4.771188254143303\n",
            "210 4.73793951333326\n",
            "420 4.701194892206151\n",
            "630 4.66262161751818\n",
            "840 4.622524023439638\n",
            "Epoch 15 finished, loss : 4.0267906\n",
            " всего за этот клуб он провел шестьдесят три матча <END>  всего в этот сельского и и <END> <END> <END>\n",
            "================\n",
            "0 4.6779676863922885\n",
            "210 4.64373950783642\n",
            "420 4.608039845273539\n",
            "630 4.569175556938775\n",
            "840 4.5298961732678675\n",
            "Epoch 16 finished, loss : 2.6597247\n",
            " проверено восемнадцатого июля две тысячи одиннадцатого года . jean shrimpton in melbourne <END>  проверено девятнадцатого февраля две тысячи шестнадцатого года . архивировано of <END> <END> <END>\n",
            "================\n",
            "0 4.585148232892135\n",
            "210 4.5520291377570015\n",
            "420 4.516384173931196\n",
            "630 4.47658826648996\n",
            "840 4.437697999818388\n",
            "Epoch 17 finished, loss : 3.6895358\n",
            " биография александра сергеевича лютого на сайте полтава историческая <END>  биография была сергеевича на на сайте сайте <END> <END>\n",
            "================\n",
            "0 4.4925398971388955\n",
            "210 4.459732015087265\n",
            "420 4.423643927437772\n",
            "630 4.385972888361327\n",
            "840 4.348075712558755\n",
            "Epoch 18 finished, loss : 2.0028894\n",
            " тысяча девятьсот шестьдесят один — « севильский цирюльник » дж . <END> <END>  тысяча девятьсот шестьдесят один — « севильский » — . <END> <END> <END>\n",
            "================\n",
            "0 4.402170162005323\n",
            "210 4.369323867948531\n",
            "420 4.334301022405357\n",
            "630 4.29415515355811\n",
            "840 4.256494860398747\n",
            "Epoch 19 finished, loss : 3.4074980\n",
            " прошел срочную военную службу в качестве сапера в пехотном полку .  турнир проводился в качестве в качестве в . . . <END>\n",
            "================\n",
            "0 4.312279829051366\n",
            "210 4.279107221041566\n",
            "420 4.2445056020014365\n",
            "630 4.206339167543167\n",
            "840 4.167872396924821\n",
            "Epoch 20 finished, loss : 1.8317745\n",
            " проверено четырнадцатого января две тысячи двенадцатого года . архивировано из первоисточника двадцать четвертого апреля две тысячи двенадцатого года . deepwater horizon <END>  проверено двадцать второго декабря две тысячи десятого года . архивировано из первоисточника четырнадцатого августа две тысячи одиннадцатого года . . численность населения\n",
            "================\n",
            "0 4.222345576579595\n",
            "210 4.188618557241379\n",
            "420 4.153063884802899\n",
            "630 4.114446171686084\n",
            "840 4.076768510558\n",
            "Epoch 21 finished, loss : 2.8828496\n",
            " нидерланды : ограниченная поставка из сша в тысяча девятьсот двадцать четвертом году , после второй мировой войны велось  нидерланды : ограниченная поставка в в , , в , , в , <END>\n",
            "================\n",
            "0 4.132335866991501\n",
            "210 4.099888297690182\n",
            "420 4.063574357456838\n",
            "630 4.025379213405491\n",
            "840 3.9872191292920283\n",
            "Epoch 22 finished, loss : 2.5521274\n",
            " в тысяча восемьсот девяносто пятом тысяча восемьсот девяносто шестом годах служил на черноморском флоте на канонерской лодке « терец » .  в тысяча восемьсот девяносто пятом тысяча восемьсот девяносто шестом на служил на черноморском флоте на всесоюзном на « привести на <END>\n",
            "================\n",
            "0 4.0420344068405045\n",
            "210 4.008503303424372\n",
            "420 3.973461944065585\n",
            "630 3.9357680411013836\n",
            "840 3.8975568747014786\n",
            "Epoch 23 finished, loss : 1.6087408\n",
            " psychiatric bulletin . тысяча девятьсот девяносто восемь ; двадцать два : от трехсот девятнадцати - трехсот двадцати colm cooney <END>  psychiatric bulletin : : : двадцать два : трехсот девятнадцати трехсот девятнадцати - трехсот двадцати colm <END> <END>\n",
            "================\n",
            "0 3.9523388251772795\n",
            "210 3.919713867805654\n",
            "420 3.883354490209341\n",
            "630 3.8455449553359493\n",
            "840 3.808945469184617\n",
            "Epoch 24 finished, loss : 2.3271405\n",
            " тысяча девятьсот шесть . ibis , p . сто тридцать три . on the breeding - habits of the rosy gull and the pectoral sandpiper <END>  спб . , , тысяча девятьсот восемьдесят девять . сто тридцать три . , государственный breeding - habits the the creation of and <END> <END> <END> .\n",
            "================\n",
            "0 3.863362524440715\n",
            "210 3.8313429826874263\n",
            "420 3.796527626532733\n",
            "630 3.759047074209993\n",
            "840 3.722553573111697\n",
            "Epoch 25 finished, loss : 2.1733826\n",
            " яз . , « руссо » , тысяча девятьсот девяносто четыре . — с. двадцать три . —  яз . , « мысль » , « руссо » , « . <END>\n",
            "================\n",
            "0 3.7768506401957516\n",
            "210 3.744818210258691\n",
            "420 3.709553290864331\n",
            "630 3.6718970211547575\n",
            "840 3.6348703787050543\n",
            "Epoch 26 finished, loss : 0.7147686\n",
            " член королевского общества канады ( тысяча девятьсот восемьдесят пять ) . <END> <END>  член королевского общества канады ( первого июня две тысячи десятого года ) . <END> <END>\n",
            "================\n",
            "0 3.689290487994511\n",
            "210 3.6577481982078077\n",
            "420 3.623185826626077\n",
            "630 3.5860839274611194\n",
            "840 3.5491615002507486\n",
            "Epoch 27 finished, loss : 3.4143944\n",
            " перед релизом альбома журнал billboard сообщал , что для продвижения пластинки организовывалась масштабная рекламная  летом кормится разнообразными журнал billboard сообщал , что для для поддержания на постройку <END>\n",
            "================\n",
            "0 3.6032269293110595\n",
            "210 3.5715968242094824\n",
            "420 3.537228568985509\n",
            "630 3.5008024868643437\n",
            "840 3.4642295834847796\n",
            "Epoch 28 finished, loss : 1.3637100\n",
            " ролики социальной рекламы ( восемьдесят ) , два <END>  вблизи социальной рекламы ( ( ) , , <END>\n",
            "================\n",
            "0 3.518882679026961\n",
            "210 3.488372154300737\n",
            "420 3.4543192161278977\n",
            "630 3.417886820005001\n",
            "840 3.3816021710209436\n",
            "Epoch 29 finished, loss : 0.5409207\n",
            " энциклопедия туризма кирилла и мефодия <END>  энциклопедия туризма кирилла и мефодия <END>\n",
            "================\n",
            "0 3.4355136580142873\n",
            "210 3.4052801818343656\n",
            "420 3.371460226637672\n",
            "630 3.3358863619074888\n",
            "840 3.301153533034926\n",
            "Epoch 30 finished, loss : 1.0150238\n",
            " проверено одиннадцатого июля две тысячи четырнадцатого года . тетяна пол <END>  проверено одиннадцатого июля две тысячи четырнадцатого года . тетяна пол <END>\n",
            "================\n",
            "0 3.3552821803300663\n",
            "210 3.325434400801241\n",
            "420 3.2927965487534068\n",
            "630 3.2578218374417727\n",
            "840 3.222565228166505\n",
            "Epoch 31 finished, loss : 0.5885802\n",
            " philippe два auguste ) захватывает графство анжу , а вместе с <END>  philippe два auguste ) захватывает графство анжу , а вместе с <END>\n",
            "================\n",
            "0 3.27687022792829\n",
            "210 3.248175321702653\n",
            "420 3.216482693637007\n",
            "630 3.1825169143509764\n",
            "840 3.1480421382504296\n",
            "Epoch 32 finished, loss : 0.7285401\n",
            " максим коваль ( рус <END>  максим коваль ( <END> <END>\n",
            "================\n",
            "0 3.202291944879953\n",
            "210 3.173866036350529\n",
            "420 3.141923616877651\n",
            "630 3.1079341253168673\n",
            "840 3.0744523348251818\n",
            "Epoch 33 finished, loss : 0.5517177\n",
            " по данным переписи две тысячи девятого года , в селе проживало девять тысяч пятьсот семьдесят пять человек ( четыре тысячи пятьсот восемнадцать <END>  по данным переписи две тысячи девятого года , в селе проживало девять тысяч пятьсот семьдесят пять человек ( четыре тысячи пятьсот восемнадцать мужчин\n",
            "================\n",
            "0 3.1289607993817095\n",
            "210 3.101097802467926\n",
            "420 3.069911753206707\n",
            "630 3.0369684312003655\n",
            "840 3.0036199301123423\n",
            "Epoch 34 finished, loss : 0.2542039\n",
            " главным достижением клуба является победа в национальном чемпионате в <END>  главным достижением клуба является победа в национальном чемпионате в <END>\n",
            "================\n",
            "0 3.0583140070411243\n",
            "210 3.0309636703348652\n",
            "420 3.0003212672907225\n",
            "630 2.967770543521834\n",
            "840 2.935297379510202\n",
            "Epoch 35 finished, loss : 2.4551939\n",
            " проверено четырнадцатого января две тысячи двенадцатого года . архивировано из первоисточника двадцать четвертого апреля две тысячи двенадцатого года . deepwater horizon launched by tsf <END>  проверено пятого июля две тысячи четырнадцатого года . архивировано из первоисточника двадцать четвертого мая две тысячи тринадцатого года . top пятьдесят manga creators by sales\n",
            "================\n",
            "0 2.989897620926972\n",
            "210 2.963373752740851\n",
            "420 2.9331594855595835\n",
            "630 2.901232687444449\n",
            "840 2.8689381386475845\n",
            "Epoch 36 finished, loss : 0.5009139\n",
            " — ки ї в : ф і тосоц і оцентр , две тысячи четыре . <END>  — ки ї в : ф і тосоц і оцентр , две тысячи четыре . <END>\n",
            "================\n",
            "0 2.923304309075806\n",
            "210 2.8971162389461425\n",
            "420 2.8679490188945396\n",
            "630 2.8367524497316596\n",
            "840 2.805451121214865\n",
            "Epoch 37 finished, loss : 0.2597873\n",
            " new york : wiley <END>  new york : wiley <END>\n",
            "================\n",
            "0 2.8596859530739356\n",
            "210 2.83393252825769\n",
            "420 2.8050396365939054\n",
            "630 2.7744125711752043\n",
            "840 2.7437230483183463\n",
            "Epoch 38 finished, loss : 3.2647135\n",
            " — спб . : питер , две тысячи два . — с. от восьмидесяти одного — восемьдесят восемь <END>  — спб . , м. . — с. от восьмидесяти одного — восемьдесят восемь . — <END>\n",
            "================\n",
            "0 2.7979769893241735\n",
            "210 2.773044534773066\n",
            "420 2.744905176589946\n",
            "630 2.715005918387647\n",
            "840 2.685040493171755\n",
            "Epoch 39 finished, loss : 0.1685030\n",
            " мумбаи расположен в устье реки улхас ( англ . ulhas ) , <END>  мумбаи расположен в устье реки улхас ( англ . ulhas ) , <END>\n",
            "================\n",
            "0 2.7392547405118695\n",
            "210 2.7145097569867596\n",
            "420 2.686965187702499\n",
            "630 2.6574910214936662\n",
            "840 2.6278518041262133\n",
            "Epoch 40 finished, loss : 0.2367925\n",
            " в трех тоннах — м. : т - во науч . изд . кмк , ин - <END>  в трех тоннах — м. : т - во науч . изд . кмк , ин - <END>\n",
            "================\n",
            "0 2.6819005525460193\n",
            "210 2.65776358336634\n",
            "420 2.6306021284104357\n",
            "630 2.6018510840306406\n",
            "840 2.572756834544369\n",
            "Epoch 41 finished, loss : 0.4158033\n",
            " — м. : пко « картография » : изд - во оникс , две тысячи десять . <END>  — м. : пко « картография » : изд - во оникс , две тысячи десять . <END>\n",
            "================\n",
            "0 2.6264108337427308\n",
            "210 2.602753566831465\n",
            "420 2.5762149329438206\n",
            "630 2.5479004061764243\n",
            "840 2.519494916726426\n",
            "Epoch 42 finished, loss : 0.1653924\n",
            " здесь p является инвариантом цикла <END>  здесь p является инвариантом цикла <END>\n",
            "================\n",
            "0 2.5729728316228506\n",
            "210 2.5499638710424777\n",
            "420 2.524161563166365\n",
            "630 2.4966668223838395\n",
            "840 2.4689245813297096\n",
            "Epoch 43 finished, loss : 0.5712029\n",
            " в районе лепель наши войска , упорно обороняя каждый рубеж , сдерживают наступление крупных мотомеханизированных частей противника . <END> <END>  в районе лепель наши войска , упорно обороняя каждый рубеж , сдерживают наступление крупных мотомеханизированных частей . <END> <END> <END>\n",
            "================\n",
            "0 2.5223365436029366\n",
            "210 2.4997624641635827\n",
            "420 2.4743255934271766\n",
            "630 2.4471358121481335\n",
            "840 2.4198096320283877\n",
            "Epoch 44 finished, loss : 0.2521891\n",
            " главным достижением клуба является победа в национальном чемпионате в тысяча девятьсот семьдесят девятом году . <END>  главным достижением клуба является победа в национальном чемпионате в тысяча девятьсот семьдесят девятом году . <END>\n",
            "================\n",
            "0 2.473192189136975\n",
            "210 2.4512034322095455\n",
            "420 2.426295011765483\n",
            "630 2.399670118995609\n",
            "840 2.372862360171359\n",
            "Epoch 45 finished, loss : 0.1013289\n",
            " получение информации об адресах , почтовых индексах , странах <END>  получение информации об адресах , почтовых индексах , странах <END>\n",
            "================\n",
            "0 2.426064304756067\n",
            "210 2.404522960861266\n",
            "420 2.37986797592287\n",
            "630 2.353799420432189\n",
            "840 2.3275618454196856\n",
            "Epoch 46 finished, loss : 0.2229410\n",
            " cnn ( шесть january две тысячи четырнадцать ) . <END>  cnn ( шесть january две тысячи четырнадцать ) . <END>\n",
            "================\n",
            "0 2.3800930671350637\n",
            "210 2.359002054901055\n",
            "420 2.335155229453897\n",
            "630 2.3096753516930377\n",
            "840 2.2838465181247147\n",
            "Epoch 47 finished, loss : 0.0518321\n",
            " пант - лауреат премии имени джавахарлала <END>  пант - лауреат премии имени джавахарлала <END>\n",
            "================\n",
            "0 2.3361886374197054\n",
            "210 2.3154443622840386\n",
            "420 2.2918587968836834\n",
            "630 2.266619500866624\n",
            "840 2.241411963695941\n",
            "Epoch 48 finished, loss : 0.0755078\n",
            " также « провинция » оказывает полный <END>  также « провинция » оказывает полный <END>\n",
            "================\n",
            "0 2.293436223819705\n",
            "210 2.2731678729153697\n",
            "420 2.2499881397861863\n",
            "630 2.2253063768600576\n",
            "840 2.200515674304671\n",
            "Epoch 49 finished, loss : 0.3340515\n",
            " далай - лама и многие министры были вынуждены бежать в индию , где им было предоставлено прибежище <END>  далай - лама и многие министры были вынуждены бежать в индию , где им было предоставлено <END> <END>\n",
            "================\n"
          ],
          "name": "stdout"
        }
      ]
    },
    {
      "cell_type": "markdown",
      "metadata": {
        "id": "-pXtwIRDKPva"
      },
      "source": [
        "Пока оно обучается: небольшой отчёт.\n",
        "\n",
        "Было тяжело. Поэтому я поставил много костылей.\n",
        "\n",
        "> Изначально в датасете около 700k предложений. Ожидаемое время обучения было около 60-80 **часов** на эпоху. Поэтому я взял меньше предложений. Но оказалось, что там много различных слов и нейронка должна очень долго учиться, чтобы не ставить много точек везде. Поэтому я оставил всего 840 предложений ~ 6k различных токенов (слов).\n",
        "\n",
        "> Далее из-за небольшого словаря он не смог распознать слово 'Эти'. Именно с большой буквы. Я уверен, что аналог с маленькой буквы есть в словаре. Поэтому я принял решение убрать заглавные буквы. Так станет чуть-чуть проще. Ну и после всех этих преобразований нейросеть неплохо обучается за 50 эпох (судя по тренировочной выборке)"
      ]
    },
    {
      "cell_type": "code",
      "metadata": {
        "colab": {
          "base_uri": "https://localhost:8080/"
        },
        "id": "uvZ7E_cvYj5M",
        "outputId": "62944057-b9a9-4724-bb35-2532f8726644"
      },
      "source": [
        "for X, y in data:\n",
        "    print(data.detokenize(y))\n",
        "    break"
      ],
      "execution_count": null,
      "outputs": [
        {
          "output_type": "stream",
          "text": [
            "['<START>', 'по', 'состоянию', 'на', 'тысяча восемьсот шестьдесят второй год', '.', '<END>']\n"
          ],
          "name": "stdout"
        }
      ]
    },
    {
      "cell_type": "code",
      "metadata": {
        "id": "F43na8_EYjzR",
        "colab": {
          "base_uri": "https://localhost:8080/",
          "height": 285
        },
        "outputId": "17c25b28-15e6-4bca-8c08-410cfe4bcd17"
      },
      "source": [
        "plt.plot(hist_losses)"
      ],
      "execution_count": null,
      "outputs": [
        {
          "output_type": "execute_result",
          "data": {
            "text/plain": [
              "[<matplotlib.lines.Line2D at 0x7f9a3ad71750>]"
            ]
          },
          "metadata": {
            "tags": []
          },
          "execution_count": 56
        },
        {
          "output_type": "display_data",
          "data": {
            "image/png": "[encoded data removed]",
            "text/plain": [
              "<Figure size 432x288 with 1 Axes>"
            ]
          },
          "metadata": {
            "tags": [],
            "needs_background": "light"
          }
        }
      ]
    },
    {
      "cell_type": "code",
      "metadata": {
        "id": "70UzLlARTU3w"
      },
      "source": [
        "def prepare_sent(sent):\n",
        "    seq = []\n",
        "    for word in sent:\n",
        "        if word not in data.idx2word:\n",
        "            word = '<UNK>'\n",
        "        seq.append(data.word2idx[word])\n",
        "    return seq"
      ],
      "execution_count": null,
      "outputs": []
    },
    {
      "cell_type": "code",
      "metadata": {
        "id": "NMj7tk9oNMPS"
      },
      "source": [
        "def predict(seq):\n",
        "    encoder.eval()\n",
        "    decoder.eval()\n",
        "    seq = prepare_sent(seq)\n",
        "    predicted_target = ''\n",
        "    att = []\n",
        "    with torch.no_grad():\n",
        "        X = seq\n",
        "        X = torch.tensor(X, device=device).view(1, -1)\n",
        "        # y = torch.tensor(y, device=device).view(1, -1)\n",
        "        hidden = encoder.initHidden()\n",
        "        output_E, hidden = encoder(X, hidden)\n",
        "        # output_E : seq x 1 x hidden_size <-- need reshape\n",
        "        # hidden : 1 x 1 x hidden_size\n",
        "        output_E = torch.swapaxes(output_E, 0, 1)\n",
        "        output_E = torch.swapaxes(output_E, 1, 2)\n",
        "        # output_E : 1 x hidden_size x seq\n",
        "        # true_target = ''\n",
        "        # print(len(y) - 1)\n",
        "        token = torch.tensor([data.word2idx['<START>']], device=device) \n",
        "        word_hidden = decoder.initHidden()\n",
        "        for i in range(228):\n",
        "            token = token.to(device).view(1, 1, 1)\n",
        "\n",
        "            probas, hidden, att_w, word_hidden = decoder(token, hidden, output_E, word_hidden)\n",
        "            att.append(torch.squeeze(att_w).detach().cpu().numpy())\n",
        "            # print(probas.view(1, -1).shape)\n",
        "            # loss += criterion(probas.view(1, -1), torch.tensor([y[i + 1]], device=device))\n",
        "            # true_target[-1] += ' ' + data.idx2word[y[i + 1]]\n",
        "            idx_pred = torch.argmax(torch.squeeze(probas)).detach().cpu().item()\n",
        "            predicted_target += ' ' + data.idx2word[idx_pred]\n",
        "            token = torch.tensor([idx_pred], device=device)\n",
        "            if idx_pred == end_token_id:\n",
        "                break\n",
        "    encoder.train()\n",
        "    decoder.train()\n",
        "    return predicted_target, att"
      ],
      "execution_count": null,
      "outputs": []
    },
    {
      "cell_type": "code",
      "metadata": {
        "id": "NS967I2gNL47",
        "colab": {
          "base_uri": "https://localhost:8080/",
          "height": 69
        },
        "outputId": "6682f28c-6500-415b-d03a-7923ec8c4da0"
      },
      "source": [
        "id = 13\n",
        "# id = 51842\n",
        "print('Before : ', dataset[id])\n",
        "print('True : ', target[id])\n",
        "# predict(['<START>', 'в', 'конце', '1811 года', ',', 'вследствие', 'конфликта', '.', '<END>'])[0]\n",
        "predict(dataset[id])[0]"
      ],
      "execution_count": null,
      "outputs": [
        {
          "output_type": "stream",
          "text": [
            "Before :  ['<START>', 'революция', '1905 года', 'потерпела', 'поражение', '.', '<END>']\n",
            "True :  ['<START>', 'революция', 'тысяча девятьсот пятого года', 'потерпела', 'поражение', '.', '<END>']\n"
          ],
          "name": "stdout"
        },
        {
          "output_type": "execute_result",
          "data": {
            "application/vnd.google.colaboratory.intrinsic+json": {
              "type": "string"
            },
            "text/plain": [
              "' революция тысяча девятьсот пятого года потерпела поражение . <END>'"
            ]
          },
          "metadata": {
            "tags": []
          },
          "execution_count": 71
        }
      ]
    },
    {
      "cell_type": "code",
      "metadata": {
        "colab": {
          "base_uri": "https://localhost:8080/",
          "height": 35
        },
        "id": "_TiDqDh0VlBu",
        "outputId": "44a882c0-6619-4132-d635-1e8a6c008468"
      },
      "source": [
        "' '.join(dataset[2])"
      ],
      "execution_count": null,
      "outputs": [
        {
          "output_type": "execute_result",
          "data": {
            "application/vnd.google.colaboratory.intrinsic+json": {
              "type": "string"
            },
            "text/plain": [
              "'<START> в конце 1811 года , вследствие конфликта с проезжим вельможей ( графом салтыковым ) вынужден был оставить службу по личному прошению . <END>'"
            ]
          },
          "metadata": {
            "tags": []
          },
          "execution_count": 181
        }
      ]
    },
    {
      "cell_type": "code",
      "metadata": {
        "colab": {
          "base_uri": "https://localhost:8080/",
          "height": 494
        },
        "id": "PXnLzORdhBLh",
        "outputId": "5c99665b-b87c-4904-803a-9668a83758e7"
      },
      "source": [
        "output_words, attentions = predict(dataset[13])#['<START>', 'проверено', 'в', 'конце', '1811 года', '.', '<END>'])\n",
        "plt.matshow(attentions)\n",
        "print(output_words)\n",
        "plt.show()\n",
        "attentions"
      ],
      "execution_count": null,
      "outputs": [
        {
          "output_type": "stream",
          "text": [
            " революция тысяча девятьсот пятого года потерпела поражение . <END>\n"
          ],
          "name": "stdout"
        },
        {
          "output_type": "display_data",
          "data": {
            "image/png": "[encoded data removed]",
            "text/plain": [
              "<Figure size 336x288 with 1 Axes>"
            ]
          },
          "metadata": {
            "tags": [],
            "needs_background": "light"
          }
        },
        {
          "output_type": "execute_result",
          "data": {
            "text/plain": [
              "[array([2.7882480e-30, 1.0000000e+00, 8.3713606e-16, 6.0067743e-24,\n",
              "        1.3879586e-32, 2.4232195e-31, 3.0217044e-35], dtype=float32),\n",
              " array([1.5706958e-12, 1.3345511e-08, 2.2581339e-08, 1.2065402e-07,\n",
              "        9.1716915e-02, 4.0522394e-01, 5.0305903e-01], dtype=float32),\n",
              " array([5.8661309e-16, 1.7264250e-12, 1.8741617e-10, 3.1731736e-07,\n",
              "        2.9038319e-03, 9.9709392e-01, 1.8499721e-06], dtype=float32),\n",
              " array([1.8713336e-05, 3.9400604e-13, 4.7568178e-06, 1.0001550e-07,\n",
              "        1.8801174e-08, 9.9996591e-01, 1.0454131e-05], dtype=float32),\n",
              " array([8.6406942e-14, 3.0284224e-05, 3.8212600e-01, 3.0019996e-03,\n",
              "        6.1467117e-01, 2.8283646e-05, 1.4222569e-04], dtype=float32),\n",
              " array([7.1777349e-18, 2.7088068e-25, 9.0359859e-20, 1.2729144e-17,\n",
              "        1.8412320e-16, 1.0000000e+00, 8.4540601e-16], dtype=float32)]"
            ]
          },
          "metadata": {
            "tags": []
          },
          "execution_count": 74
        }
      ]
    },
    {
      "cell_type": "markdown",
      "metadata": {
        "id": "7XrDozU584gu"
      },
      "source": [
        "> А вот Attention как-то не очень работает. Сейчас попробую улучшение: Я буду в decoder перед всем делать не просто embedding слова, а пропускать это слово через ещё одну GRU и как representation vector слова буду брать hidden из этой GRU. Он как-то эти все предложения запоминает, но даже префиксы тренировочного датасета плохо предсказывает."
      ]
    },
    {
      "cell_type": "code",
      "metadata": {
        "id": "y9hzclB2Bs8E"
      },
      "source": [
        "class DecoderRNN(nn.Module):\n",
        "    def __init__(self, embedding_dim, hidden_size):\n",
        "        super().__init__()\n",
        "        self.embedding_dim = embedding_dim\n",
        "        self.hidden_size = hidden_size\n",
        "        self.emb = torch.nn.Embedding(len(data.idx2word), embedding_dim)\n",
        "        self.word_rnn = torch.nn.GRU(input_size=embedding_dim, hidden_size=hidden_size, dropout=0.6)\n",
        "        self.rnn = torch.nn.GRU(input_size=embedding_dim + hidden_size, hidden_size=hidden_size, dropout=0.6)\n",
        "        self.W = torch.nn.Linear(embedding_dim, hidden_size)\n",
        "        self.drop = torch.nn.Dropout(0.6)\n",
        "        self.FC = torch.nn.Linear(hidden_size, len(data.idx2word))\n",
        "\n",
        "    def forward(self, token, hidden, enc_out, word_hidden): # here goes only one token\n",
        "        # token : (1, 1, 1)\n",
        "        # hidden : (1, 1, hidden_size)\n",
        "        # enc_out : (1, hidden_size, enc_input)\n",
        "        embedded = self.emb(token).view(1, 1, self.embedding_dim) # v_i\n",
        "        out, word = self.word_rnn(embedded, word_hidden)\n",
        "        att_w = F.softmax(torch.transpose(torch.bmm(self.drop(self.W(word)), enc_out), 1, 2), dim=1) # (batch, enc_seq_out, 1)\n",
        "        att = torch.bmm(enc_out, att_w).view(1, 1, -1) # (1, 1, hidden)\n",
        "        x = torch.cat((att, word), dim=2) # (1, 1, hidden + embedding)\n",
        "        output, hidden = self.rnn(F.silu(x), hidden)\n",
        "        probas = self.FC(hidden)\n",
        "        return probas, hidden, att_w, word\n",
        "    \n",
        "    def initHidden(self):\n",
        "        return torch.zeros(1, 1, self.hidden_size, device=device)\n",
        "    "
      ],
      "execution_count": null,
      "outputs": []
    },
    {
      "cell_type": "code",
      "metadata": {
        "colab": {
          "base_uri": "https://localhost:8080/"
        },
        "id": "0vLR5aDIDbfX",
        "outputId": "81f2177d-d313-48f7-94b7-389431bee466"
      },
      "source": [
        "encoder = EncoderRNN(128, 128).to(device)\n",
        "decoder = DecoderRNN(128, 128).to(device)"
      ],
      "execution_count": null,
      "outputs": [
        {
          "output_type": "stream",
          "text": [
            "/usr/local/lib/python3.7/dist-packages/torch/nn/modules/rnn.py:63: UserWarning: dropout option adds dropout after all but last recurrent layer, so non-zero dropout expects num_layers greater than 1, but got dropout=0.6 and num_layers=1\n",
            "  \"num_layers={}\".format(dropout, num_layers))\n"
          ],
          "name": "stderr"
        }
      ]
    },
    {
      "cell_type": "code",
      "metadata": {
        "id": "92Ownte1Dbb_"
      },
      "source": [
        "criterion = torch.nn.CrossEntropyLoss()\n",
        "optimizer_E = torch.optim.Adam(encoder.parameters(), lr=0.001)\n",
        "optimizer_D = torch.optim.Adam(decoder.parameters(), lr=0.001)\n",
        "EPOCHS = 50 # 60 epochs is +- enough\n",
        "teacher_forcing_ratio = 0.4"
      ],
      "execution_count": null,
      "outputs": []
    },
    {
      "cell_type": "code",
      "metadata": {
        "colab": {
          "base_uri": "https://localhost:8080/"
        },
        "id": "yHOTeeD4Bs5y",
        "outputId": "9684f141-f4d5-4f52-8216-6baab8e91357"
      },
      "source": [
        "hist_losses = []\n",
        "end_token_id = data.word2idx['<END>']\n",
        "for epoch in range(EPOCHS):\n",
        "    permutation = np.random.permutation(len(data))\n",
        "    true_target = []\n",
        "    predicted_target = []\n",
        "    for j in range(len(data)):\n",
        "        encoder.zero_grad()\n",
        "        decoder.zero_grad()\n",
        "        X, y = data[permutation[j]]\n",
        "\n",
        "        # Take random segment\n",
        "        sz = len(X)\n",
        "        r_bound = random.randint(max(2, sz // 2), sz - 1) + 1\n",
        "        l_bound = random.randint(1, r_bound - 1)\n",
        "        X = [data.word2idx['<START>']] + X[l_bound:r_bound] + [data.word2idx['<END>']]\n",
        "        y = [data.word2idx['<START>']] + y[l_bound:r_bound] + [data.word2idx['<END>']]\n",
        "\n",
        "\n",
        "        X = torch.tensor(X, device=device).view(1, -1)\n",
        "        # y = torch.tensor(y, device=device).view(1, -1)\n",
        "        hidden = encoder.initHidden()\n",
        "        output_E, hidden = encoder(X, hidden)\n",
        "        # output_E : seq x 1 x hidden_size <-- need reshape\n",
        "        # hidden : 1 x 1 x hidden_size\n",
        "        output_E = torch.swapaxes(output_E, 0, 1)\n",
        "        output_E = torch.swapaxes(output_E, 1, 2)\n",
        "        # output_E : 1 x hidden_size x seq\n",
        "        loss = 0\n",
        "        true_target.append('')\n",
        "        predicted_target.append('')\n",
        "        # print(len(y) - 1)\n",
        "        word_hidden = decoder.initHidden()\n",
        "        use_teacher_forcing = True if random.random() < teacher_forcing_ratio else False\n",
        "        if use_teacher_forcing:\n",
        "            for i in range(len(y) - 1):\n",
        "                token = torch.tensor([y[i]], device=device)\n",
        "                token = token.view(1, 1, 1)\n",
        "\n",
        "                probas, hidden, att_w, word_hidden = decoder(token, hidden, output_E, word_hidden)\n",
        "                # print(probas.view(1, -1).shape)\n",
        "                loss += criterion(probas.view(1, -1), torch.tensor([y[i + 1]], device=device))\n",
        "                true_target[-1] += ' ' + data.idx2word[y[i + 1]]\n",
        "                idx_pred = torch.argmax(torch.squeeze(probas)).detach().cpu().item()\n",
        "                predicted_target[-1] += ' ' + data.idx2word[idx_pred]\n",
        "        else:\n",
        "            token = torch.tensor([y[0]], device=device) \n",
        "            for i in range(len(y) - 1):\n",
        "                token = token.to(device).view(1, 1, 1)\n",
        "\n",
        "                probas, hidden, att_w, word_hidden = decoder(token, hidden, output_E, word_hidden)\n",
        "                # print(probas.view(1, -1).shape)\n",
        "                loss += criterion(probas.view(1, -1), torch.tensor([y[i + 1]], device=device))\n",
        "                true_target[-1] += ' ' + data.idx2word[y[i + 1]]\n",
        "                idx_pred = torch.argmax(torch.squeeze(probas)).detach().cpu().item()\n",
        "                predicted_target[-1] += ' ' + data.idx2word[idx_pred]\n",
        "                token = torch.tensor([idx_pred], device=device)\n",
        "                if idx_pred == end_token_id:\n",
        "                    break\n",
        "        loss.backward()\n",
        "        optimizer_D.step()\n",
        "        optimizer_E.step()\n",
        "        hist_losses.append(loss.detach().cpu().item() / (len(y) - 1))\n",
        "        if (j % 210 == 0):\n",
        "            print(j, np.mean(hist_losses[max(0, j - 42):-1]))\n",
        "    print(f'Epoch {epoch} finished, loss : {hist_losses[-1]:.7f}')\n",
        "    for i in range(1, 2):\n",
        "        print(true_target[-i], predicted_target[-i])\n",
        "    print('----------------')\n",
        "    print(predict(['<START>', 'в', 'конце', '1811 года', ',', 'вследствие', 'конфликта', '.', '<END>'])[0])\n",
        "    print('================')"
      ],
      "execution_count": null,
      "outputs": [
        {
          "output_type": "stream",
          "text": [
            "/usr/local/lib/python3.7/dist-packages/numpy/core/fromnumeric.py:3373: RuntimeWarning: Mean of empty slice.\n",
            "  out=out, **kwargs)\n",
            "/usr/local/lib/python3.7/dist-packages/numpy/core/_methods.py:170: RuntimeWarning: invalid value encountered in double_scalars\n",
            "  ret = ret.dtype.type(ret / rcount)\n"
          ],
          "name": "stderr"
        },
        {
          "output_type": "stream",
          "text": [
            "0 nan\n",
            "210 1.1675334607106305\n",
            "420 0.9328023842550844\n",
            "630 1.2483834042247492\n",
            "840 1.172076068900302\n",
            "Epoch 0 finished, loss : 1.0251495\n",
            " административный центр поселения — хутор плотников <END>  хутор центр поселения — хутор плотников плотников\n",
            "----------------\n",
            " в крулл , , , деревне . <END>\n",
            "================\n",
            "0 1.0951203452519038\n",
            "210 1.1056973510795247\n",
            "420 1.1056060674898092\n",
            "630 1.1240375352497818\n",
            "840 1.12682816830217\n",
            "Epoch 1 finished, loss : 0.0198919\n",
            " сельского поселения . <END> <END>  сельского поселения . <END> <END>\n",
            "----------------\n",
            " в мастерской , , . . . <END>\n",
            "================\n",
            "0 1.1094656159147782\n",
            "210 1.1069080105047253\n",
            "420 1.115188500882707\n",
            "630 1.113210127883522\n",
            "840 1.1025331366415418\n",
            "Epoch 2 finished, loss : 0.9138207\n",
            " с запада , а одиннадцатая гвардейская атаковала <END>  с запада , а гвардейская гвардейская <END> <END>\n",
            "----------------\n",
            " в конце мастерской , . . <END>\n",
            "================\n",
            "0 1.1064198114423631\n",
            "210 1.1094144677038487\n",
            "420 1.1100994109738076\n",
            "630 1.1143981707129669\n",
            "840 1.1060751241789397\n",
            "Epoch 3 finished, loss : 0.1089230\n",
            " кандидат философских наук . <END> <END>  кандидат философских наук . <END> <END>\n",
            "----------------\n",
            " в конце входят , . . . <END>\n",
            "================\n",
            "0 1.099198450125631\n",
            "210 1.0993449984851207\n",
            "420 1.0932197194613313\n",
            "630 1.0944350385678612\n",
            "840 1.094549467773773\n",
            "Epoch 4 finished, loss : 0.5878221\n",
            " янусу или сатурну . <END>  янусу или сатурну . <END>\n",
            "----------------\n",
            " в конце человек , тысяча девятьсот девяносто семь . . <END>\n",
            "================\n",
            "0 1.094219977695829\n",
            "210 1.0947790505406605\n",
            "420 1.0985160796647087\n",
            "630 1.0955668598991193\n",
            "840 1.097119122753324\n",
            "Epoch 5 finished, loss : 1.1675646\n",
            " гидрометеоиздат , тысяча девятьсот шестьдесят четыре . — четыреста тридцать две секунды государственный водный реестр рф :  гидрометеоиздат , тысяча девятьсот шестьдесят четыре государственный — четыреста тридцать две секунды государственный государственный рф государственный <END>\n",
            "----------------\n",
            " в деревне составляет , , тысяча девятьсот девяносто семь . <END>\n",
            "================\n",
            "0 1.0966269083905877\n",
            "210 1.0960650996018437\n",
            "420 1.0943672877701678\n",
            "630 1.0914525013806344\n",
            "840 1.0875331375998813\n",
            "Epoch 6 finished, loss : 0.3686771\n",
            " синдрома при ультразвуковом  синдрома при <END>\n",
            "----------------\n",
            " в разных пестика , , . . <END>\n",
            "================\n",
            "0 1.0914782504475746\n",
            "210 1.0872865517083612\n",
            "420 1.0871062182823643\n",
            "630 1.0880008125498628\n",
            "840 1.0875914836678082\n",
            "Epoch 7 finished, loss : 3.1564159\n",
            " простые <END>  ссср <END>\n",
            "----------------\n",
            " в конце тысяча восемьсот одиннадцатого года , , . . <END>\n",
            "================\n",
            "0 1.0879644222676068\n",
            "210 1.0861436272335931\n",
            "420 1.0840304328444141\n",
            "630 1.084320888314714\n",
            "840 1.0838087621038843\n",
            "Epoch 8 finished, loss : 2.0477023\n",
            " медной монеты и появились при екатерине второй первые бумажные деньги — <END>  медной монеты и появились первые появились первые первые первые первые первые <END>\n",
            "----------------\n",
            " в конце входят , , которого . <END>\n",
            "================\n",
            "0 1.0844956685869123\n",
            "210 1.0856011445426028\n",
            "420 1.086349237892861\n",
            "630 1.0846646348683973\n",
            "840 1.0807976980599043\n",
            "Epoch 9 finished, loss : 2.7914360\n",
            " medecine des enfants , тысяча девятьсот тридцать три ; тридцать шесть : от семьсот тринадцать — семьсот девятнадцать schrier s. a. et al  тридцать шесть des enfants , тысяча девятьсот тридцать три — — от семьсот девятнадцать семьсот девятнадцать семьсот девятнадцать семьсот девятнадцать семьсот девятнадцать семьсот девятнадцать семьсот девятнадцать <END>\n",
            "----------------\n",
            " в конце составляет , , деревне . <END>\n",
            "================\n",
            "0 1.0817223574516555\n",
            "210 1.0767147331003741\n",
            "420 1.072066706650009\n",
            "630 1.0712317507865177\n",
            "840 1.068727592795903\n",
            "Epoch 10 finished, loss : 1.7152308\n",
            " устроил засаду <END>  засаду засаду <END>\n",
            "----------------\n",
            " в конце составляет , , . . <END>\n",
            "================\n",
            "0 1.0688061266862785\n",
            "210 1.0672985985295342\n",
            "420 1.0665558068358603\n",
            "630 1.0636405502042021\n",
            "840 1.061294974089445\n",
            "Epoch 11 finished, loss : 0.2855943\n",
            " из которых водная <END>  из которых водная <END>\n",
            "----------------\n",
            " в конце составляет , , . ле . <END>\n",
            "================\n",
            "0 1.061650561794772\n",
            "210 1.0599347099161227\n",
            "420 1.058531365564177\n",
            "630 1.0560631422727162\n",
            "840 1.053116372430278\n",
            "Epoch 12 finished, loss : 0.0027905\n",
            " ) <END>  ) <END>\n",
            "----------------\n",
            " в конце человек , . . . <END>\n",
            "================\n",
            "0 1.0575011527407054\n",
            "210 1.0550430886873823\n",
            "420 1.0506827532095517\n",
            "630 1.048002292032799\n",
            "840 1.0453452905425837\n",
            "Epoch 13 finished, loss : 2.2021118\n",
            " — спб . , две тысячи четырнадцать . печатное собрание лермонтовского музея при  — спб . , , , две тысячи четырнадцать . — с. <END>\n",
            "----------------\n",
            " в ткани , , , . . <END>\n",
            "================\n",
            "0 1.0473386436625725\n",
            "210 1.0450095121129208\n",
            "420 1.0434799629188165\n",
            "630 1.042751668458231\n",
            "840 1.0399239910288873\n",
            "Epoch 14 finished, loss : 0.1533050\n",
            " двусторонний . <END>  двусторонний . <END>\n",
            "----------------\n",
            " в конце , , , . <END>\n",
            "================\n",
            "0 1.0408859842150284\n",
            "210 1.0396878510266805\n",
            "420 1.035318228771162\n",
            "630 1.033041303228098\n",
            "840 1.030029918715999\n",
            "Epoch 15 finished, loss : 1.2798946\n",
            " . — двести шестьдесят две секунды результаты опроса восемьсот сорок шесть <END>  . — двести шестьдесят две секунды результаты опроса <END> <END>\n",
            "----------------\n",
            " в конце тысяча восемьсот одиннадцатого года , , . . <END>\n",
            "================\n",
            "0 1.0321521330664942\n",
            "210 1.0294070703452938\n",
            "420 1.0286346546086464\n",
            "630 1.0250470907852125\n",
            "840 1.0227473760586818\n",
            "Epoch 16 finished, loss : 0.0417579\n",
            " » , тысяча девятьсот девяносто четыре . <END>  » , тысяча девятьсот девяносто четыре . <END>\n",
            "----------------\n",
            " в конце , , когда . . <END>\n",
            "================\n",
            "0 1.0251404395809145\n",
            "210 1.021962190889928\n",
            "420 1.0199595956909415\n",
            "630 1.0173841814761466\n",
            "840 1.0150693153778734\n",
            "Epoch 17 finished, loss : 1.9461597\n",
            " в настоящий момент он занимает третье место среди лучших бомбардиров « <END>  в настоящий момент место занимает среди лучших лучших среди среди « бананца\n",
            "----------------\n",
            " в конце , , тысяча девятьсот девяносто семь . <END>\n",
            "================\n",
            "0 1.017659403305771\n",
            "210 1.0165062340777875\n",
            "420 1.014187683154087\n",
            "630 1.0129435620873881\n",
            "840 1.0101721290468029\n",
            "Epoch 18 finished, loss : 0.8872522\n",
            " районный центр — город арск был основан в средневековье как <END>  районный центр — арск арск был основан в средневековье <END> <END>\n",
            "----------------\n",
            " в конце ста двадцати шести , тысяча девятьсот девяносто семь . . <END>\n",
            "================\n",
            "0 1.013132302341304\n",
            "210 1.0109104286979764\n",
            "420 1.0088500234948126\n",
            "630 1.0065202410273122\n",
            "840 1.0040318504472685\n",
            "Epoch 19 finished, loss : 0.3721660\n",
            " сто шестьдесят четыре . masataka , n. ( <END>  сто шестьдесят четыре . masataka , n. <END> <END>\n",
            "----------------\n",
            " в конце , , когда . . <END>\n",
            "================\n",
            "0 1.0055172664491905\n",
            "210 1.004729479655488\n",
            "420 1.0005400598429914\n",
            "630 0.9981586559298947\n",
            "840 0.9952112998671122\n",
            "Epoch 20 finished, loss : 1.6214962\n",
            " простой у муравьедов или <END>  у у муравьедов или <END>\n",
            "----------------\n",
            " в конце , , , ее . . <END>\n",
            "================\n",
            "0 0.997840940444752\n",
            "210 0.9961314424495304\n",
            "420 0.9930690809037657\n",
            "630 0.9918798395393162\n",
            "840 0.9888219964536603\n",
            "Epoch 21 finished, loss : 0.9937156\n",
            " еврипид <END>  еврипид <END>\n",
            "----------------\n",
            " в конце тысяча девятьсот двадцать четвертом году , , . . <END>\n",
            "================\n",
            "0 0.991879407553824\n",
            "210 0.9894819193863018\n",
            "420 0.986892801348326\n",
            "630 0.9846199096175248\n",
            "840 0.9821963691756813\n",
            "Epoch 22 finished, loss : 0.7623056\n",
            " - , реже тонкомясистая , с <END>  - , реже реже с с <END>\n",
            "----------------\n",
            " в конце агента , , с . . <END>\n",
            "================\n",
            "0 0.9852680203632327\n",
            "210 0.9829808711752421\n",
            "420 0.9800447428916388\n",
            "630 0.9790944555807776\n",
            "840 0.9765302386323348\n",
            "Epoch 23 finished, loss : 1.0109215\n",
            " бен попросил ричарда привести ему « <END>  привести попросил ричарда привести ему « человека\n",
            "----------------\n",
            " в ста двадцати шести ; , , . . <END>\n",
            "================\n",
            "0 0.9795879983941844\n",
            "210 0.9782407396639956\n",
            "420 0.9760977894979329\n",
            "630 0.973461017079079\n",
            "840 0.9717194238613494\n",
            "Epoch 24 finished, loss : 2.9894969\n",
            " мио - инозитол ( i - инозит ; мезо - инозит ; мио - инозит ; 1,2 , 3,5 - цис - четыре , шести циклогексангексол ; дамбоза ) — один из девяти стереоизомеров шестиатомного спирта инозитола . <END>  мио - - ( - - - - - - - - , - четыре , , , , - — ) четыре ) 3,5 — ) <END> ) ) один из <END> один <END> один один <END> <END>\n",
            "----------------\n",
            " в в ста двадцати шести , , . . <END>\n",
            "================\n",
            "0 0.9757606745261337\n",
            "210 0.9747586697034543\n",
            "420 0.9723462186926626\n",
            "630 0.9703771261417244\n",
            "840 0.9675536835267816\n",
            "Epoch 25 finished, loss : 0.8920897\n",
            " нарушена , часто выявляется гипоурикемия . <END>  нарушена , часто часто гипоурикемия . <END>\n",
            "----------------\n",
            " в конце , , , . . <END>\n",
            "================\n",
            "0 0.971023262304509\n",
            "210 0.9700293998054634\n",
            "420 0.96722342822586\n",
            "630 0.9656309617934773\n",
            "840 0.9625322982239941\n",
            "Epoch 26 finished, loss : 0.8107922\n",
            " ирландии , <END>  ирландии , <END>\n",
            "----------------\n",
            " в конце , , . . . <END>\n",
            "================\n",
            "0 0.9663855907640947\n",
            "210 0.9648548387526581\n",
            "420 0.9634350884500518\n",
            "630 0.9607214863692438\n",
            "840 0.9592148583912613\n",
            "Epoch 27 finished, loss : 4.3051248\n",
            " волостей значительно сокращено  с. и. значительно <END>\n",
            "----------------\n",
            " в конце , , , , . <END>\n",
            "================\n",
            "0 0.9615569043350326\n",
            "210 0.9594183465227896\n",
            "420 0.9585400869627372\n",
            "630 0.9561412400741884\n",
            "840 0.9536744437073998\n",
            "Epoch 28 finished, loss : 0.3107318\n",
            " равен весовой унции , имея при <END>  равен весовой унции , имея при <END>\n",
            "----------------\n",
            " в конце ; , , , . . <END>\n",
            "================\n",
            "0 0.9561355725461748\n",
            "210 0.9544506295635988\n",
            "420 0.9520268680873454\n",
            "630 0.9504449928830012\n",
            "840 0.9488474043112599\n",
            "Epoch 29 finished, loss : 2.7600349\n",
            " семейное предприятие , членами которого стали его сыновья , дочь ,  дочь семнадцать , космический которого , его , , его <END>\n",
            "----------------\n",
            " в конце пять , , . <END>\n",
            "================\n",
            "0 0.9517793564335796\n",
            "210 0.9506004929007171\n",
            "420 0.9483207034810599\n",
            "630 0.946766672024695\n",
            "840 0.9448896026981001\n",
            "Epoch 30 finished, loss : 0.2245251\n",
            " его темой становятся испанские селения <END>  его темой становятся испанские селения <END>\n",
            "----------------\n",
            " в конце ; , . . . . <END>\n",
            "================\n",
            "0 0.947904634359072\n",
            "210 0.9461279124701055\n",
            "420 0.9436400561384007\n",
            "630 0.9416127385458427\n",
            "840 0.9389567479002078\n",
            "Epoch 31 finished, loss : 2.1001662\n",
            " информации и международных отношений центральной тибетской администрации его святейшества далай - ламы <END>  информации и международных отношений отношений центральной отношений святейшества святейшества далай далай далай далай\n",
            "----------------\n",
            " в конце пять , , . . . <END>\n",
            "================\n",
            "0 0.9422558075248829\n",
            "210 0.9406650651629582\n",
            "420 0.93889611203193\n",
            "630 0.9370930229996949\n",
            "840 0.9344097691985279\n",
            "Epoch 32 finished, loss : 1.4591991\n",
            " прибыли двадцать психологов , чтобы оказать помощь родственникам шахтеров . <END> <END>  прибыли , психологов , чтобы оказать помощь родственникам . . <END> <END>\n",
            "----------------\n",
            " в конце пять , , , <END>\n",
            "================\n",
            "0 0.9375072696921046\n",
            "210 0.935279277838497\n",
            "420 0.9337305923445062\n",
            "630 0.9314330860183255\n",
            "840 0.9286300714324072\n",
            "Epoch 33 finished, loss : 0.8433698\n",
            " составляет пятьсот пятьдесят одну тысячу пятьсот квадратных километров ( шестьсот семьдесят пять тысяч четыреста семнадцать квадратных километров вместе с заморскими владениями <END>  составляет вместе ( шестьсот семьдесят пять тысяч четыреста семнадцать квадратных километров вместе с заморскими вместе <END>\n",
            "----------------\n",
            " в конце пять , но . <END>\n",
            "================\n",
            "0 0.9321068082473302\n",
            "210 0.9306521135626786\n",
            "420 0.9285166454887464\n",
            "630 0.9261771610611501\n",
            "840 0.9238656918922408\n",
            "Epoch 34 finished, loss : 1.4360293\n",
            " севернее дудинки и северо - восточнее белочи , в низменной долине неруссы  севернее дудинки и северо - - , северо - северо в <END>\n",
            "----------------\n",
            " в конце ; , , ее . . <END>\n",
            "================\n",
            "0 0.9270251739697616\n",
            "210 0.9255280311105267\n",
            "420 0.9239823442418572\n",
            "630 0.9218868798193322\n",
            "840 0.9199257238331445\n",
            "Epoch 35 finished, loss : 0.2335386\n",
            " является зеркальным отображением его лицевой <END>  является зеркальным отображением его лицевой <END>\n",
            "----------------\n",
            " в разных ; , . . . . <END>\n",
            "================\n",
            "0 0.9230481878899451\n",
            "210 0.9221470039787352\n",
            "420 0.9199013765260087\n",
            "630 0.9175646092632013\n",
            "840 0.9153052670969959\n",
            "Epoch 36 finished, loss : 0.7614913\n",
            " курса филол . <END> <END>  курса курса . <END> <END>\n",
            "----------------\n",
            " в конце ; , . . . . <END>\n",
            "================\n",
            "0 0.9180230108542152\n",
            "210 0.9164255717501365\n",
            "420 0.9146262177808557\n",
            "630 0.9129203553446008\n",
            "840 0.9105850540315744\n",
            "Epoch 37 finished, loss : 0.2407530\n",
            " в. в. маланин — пермь : <END>  в. в. маланин — пермь : <END>\n",
            "----------------\n",
            " в конце ландштрассе , , ее . . <END>\n",
            "================\n",
            "0 0.913851829391039\n",
            "210 0.9122654498648044\n",
            "420 0.910241189081826\n",
            "630 0.9084987168303772\n",
            "840 0.906487675464562\n",
            "Epoch 38 finished, loss : 0.0281621\n",
            " его длине — <END>  его длине — <END>\n",
            "----------------\n",
            " в конце , , , . . . <END>\n",
            "================\n",
            "0 0.9099689339628917\n",
            "210 0.9086823536562669\n",
            "420 0.9070868993594408\n",
            "630 0.9053109967052311\n",
            "840 0.9036209537339369\n",
            "Epoch 39 finished, loss : 0.0711304\n",
            " польши преимущественно малоплодородны <END>  польши преимущественно малоплодородны <END>\n",
            "----------------\n",
            " в конце ; , , , . . . <END>\n",
            "================\n",
            "0 0.9070711468008124\n",
            "210 0.9053572882373144\n",
            "420 0.9037506508791071\n",
            "630 0.9014223160276355\n",
            "840 0.8996894989308598\n",
            "Epoch 40 finished, loss : 1.1499105\n",
            " в ожидании подхода стрелковых соединений шестой армии  в ожидании соединений стрелковых соединений шестой <END>\n",
            "----------------\n",
            " в разных , , , . — <END>\n",
            "================\n",
            "0 0.9030419291058593\n",
            "210 0.901374547290785\n",
            "420 0.9000228934678703\n",
            "630 0.8982236867038472\n",
            "840 0.896152510070949\n",
            "Epoch 41 finished, loss : 1.5226574\n",
            " в найроби была начата операция « наковальня » , город был поставлен под <END>  в найроби была город операция « наковальня » , город район , под поставлен\n",
            "----------------\n",
            " в конце , , , . . <END>\n",
            "================\n",
            "0 0.8999698115291809\n",
            "210 0.8982304172544652\n",
            "420 0.8968466770218984\n",
            "630 0.8946915458025767\n",
            "840 0.8928935414588246\n",
            "Epoch 42 finished, loss : 0.1694186\n",
            " сд ) и непосредственно <END>  сд ) и непосредственно <END>\n",
            "----------------\n",
            " в конце , , когда . . <END>\n",
            "================\n",
            "0 0.8954263337930048\n",
            "210 0.8943814219957124\n",
            "420 0.8928302206748261\n",
            "630 0.8913745948889785\n",
            "840 0.8897734432922658\n",
            "Epoch 43 finished, loss : 0.3885662\n",
            " , три органа управления существуют <END>  , три органа органа существуют <END>\n",
            "----------------\n",
            " в конце четыре , , . . <END>\n",
            "================\n",
            "0 0.892663256953742\n",
            "210 0.8915889668057754\n",
            "420 0.8900294393558094\n",
            "630 0.8884020095508561\n",
            "840 0.8860327931034088\n",
            "Epoch 44 finished, loss : 1.7680227\n",
            " маршрут проектируемой автодороги « вилюй » , в настоящее время фактически не <END>  автодороги проектируемой автодороги « вилюй вилюй , фактически фактически фактически фактически фактически фактически\n",
            "----------------\n",
            " в конце , , , . <END>\n",
            "================\n",
            "0 0.8893365170246589\n",
            "210 0.8882008460212376\n",
            "420 0.8867144159525988\n",
            "630 0.8849277499781235\n",
            "840 0.883024238273671\n",
            "Epoch 45 finished, loss : 0.3167011\n",
            " — с. сто девяносто восемь . — двенадцать тысяч пятьсот <END>  — с. сто девяносто восемь . — двенадцать тысяч пятьсот двенадцать тысяч пятьсот\n",
            "----------------\n",
            " в конце , , , затем . <END>\n",
            "================\n",
            "0 0.8863506187188304\n",
            "210 0.8850184343372016\n",
            "420 0.883165652224397\n",
            "630 0.8813501077935018\n",
            "840 0.8794994253537828\n",
            "Epoch 46 finished, loss : 0.2712414\n",
            " коллежские советники . <END>  коллежские советники . <END>\n",
            "----------------\n",
            " в конце , , , он . <END>\n",
            "================\n",
            "0 0.8820247360174669\n",
            "210 0.8804594533787853\n",
            "420 0.8787212280416249\n",
            "630 0.8770581998729986\n",
            "840 0.875318173356588\n",
            "Epoch 47 finished, loss : 2.6817640\n",
            " согласен и оператор сергей астахов <END>  согласен третьей в съемках третьей <END>\n",
            "----------------\n",
            " в конце , , . вынужден <END>\n",
            "================\n",
            "0 0.8782556346325341\n",
            "210 0.8767628227252839\n",
            "420 0.8754713120353825\n",
            "630 0.874270892355607\n",
            "840 0.8717106718770038\n",
            "Epoch 48 finished, loss : 0.1192245\n",
            " четырнадцатого августа две тысячи одиннадцатого года . <END>  четырнадцатого августа две тысячи одиннадцатого года . <END>\n",
            "----------------\n",
            " в конце совета , , . . <END>\n",
            "================\n",
            "0 0.8748723091439929\n",
            "210 0.8734610167773091\n",
            "420 0.8715447210773722\n",
            "630 0.8697011493759617\n",
            "840 0.8678031792281141\n",
            "Epoch 49 finished, loss : 1.1235395\n",
            " - выер » ( полная версия ) юрий коваль <END>  - выер » ( полная ) <END> <END> <END> <END>\n",
            "----------------\n",
            " в конце . , , . <END>\n",
            "================\n"
          ],
          "name": "stdout"
        }
      ]
    },
    {
      "cell_type": "code",
      "metadata": {
        "colab": {
          "base_uri": "https://localhost:8080/"
        },
        "id": "yc5qZqJmBs3k",
        "outputId": "3c22a708-32e1-4919-9a53-07ec7084f12f"
      },
      "source": [
        "print(predict(['<START>', 'в', 'конце', '1811 года', ',', 'вследствие', 'конфликта', '.', '<END>'])[0])"
      ],
      "execution_count": null,
      "outputs": [
        {
          "output_type": "stream",
          "text": [
            " в конце . , , . <END>\n"
          ],
          "name": "stdout"
        }
      ]
    },
    {
      "cell_type": "code",
      "metadata": {
        "colab": {
          "base_uri": "https://localhost:8080/",
          "height": 460
        },
        "id": "er2_fP3FBs05",
        "outputId": "eff07a14-9233-4a53-ecfb-7ef9737e5db9"
      },
      "source": [
        "output_words, attentions = predict(dataset[13])\n",
        "plt.matshow(attentions)\n",
        "print(output_words)\n",
        "plt.show()\n",
        "attentions"
      ],
      "execution_count": null,
      "outputs": [
        {
          "output_type": "stream",
          "text": [
            " поражение тысяча девятьсот пятого года потерпела поражение . <END>\n"
          ],
          "name": "stdout"
        },
        {
          "output_type": "display_data",
          "data": {
            "image/png": "[encoded data removed]",
            "text/plain": [
              "<Figure size 336x288 with 1 Axes>"
            ]
          },
          "metadata": {
            "tags": [],
            "needs_background": "light"
          }
        },
        {
          "output_type": "execute_result",
          "data": {
            "text/plain": [
              "[array([0., 1., 0., 0., 0., 0., 0.], dtype=float32),\n",
              " array([0., 0., 1., 0., 0., 0., 0.], dtype=float32),\n",
              " array([0.0000000e+00, 0.0000000e+00, 0.0000000e+00, 1.0000000e+00,\n",
              "        6.0674894e-36, 0.0000000e+00, 0.0000000e+00], dtype=float32),\n",
              " array([0.000000e+00, 0.000000e+00, 0.000000e+00, 3.624347e-37,\n",
              "        1.000000e+00, 1.732397e-39, 3.174530e-40], dtype=float32),\n",
              " array([0.0000000e+00, 0.0000000e+00, 0.0000000e+00, 0.0000000e+00,\n",
              "        9.9610537e-01, 7.6938467e-15, 3.8945857e-03], dtype=float32),\n",
              " array([0.0000000e+00, 0.0000000e+00, 0.0000000e+00, 0.0000000e+00,\n",
              "        0.0000000e+00, 2.3143187e-22, 1.0000000e+00], dtype=float32)]"
            ]
          },
          "metadata": {
            "tags": []
          },
          "execution_count": 88
        }
      ]
    },
    {
      "cell_type": "markdown",
      "metadata": {
        "id": "_hyE_wi3MYR_"
      },
      "source": [
        "> Оооо, attentions начали работать корректно, ура."
      ]
    },
    {
      "cell_type": "code",
      "metadata": {
        "id": "cOQlIpiJOB_D"
      },
      "source": [
        "def predict(seq):\n",
        "    encoder.eval()\n",
        "    decoder.eval()\n",
        "    seq = prepare_sent(seq)\n",
        "    predicted_target = []\n",
        "    att = []\n",
        "    with torch.no_grad():\n",
        "        X = seq\n",
        "        X = torch.tensor(X, device=device).view(1, -1)\n",
        "        # y = torch.tensor(y, device=device).view(1, -1)\n",
        "        hidden = encoder.initHidden()\n",
        "        output_E, hidden = encoder(X, hidden)\n",
        "        # output_E : seq x 1 x hidden_size <-- need reshape\n",
        "        # hidden : 1 x 1 x hidden_size\n",
        "        output_E = torch.swapaxes(output_E, 0, 1)\n",
        "        output_E = torch.swapaxes(output_E, 1, 2)\n",
        "        # output_E : 1 x hidden_size x seq\n",
        "        # true_target = ''\n",
        "        # print(len(y) - 1)\n",
        "        token = torch.tensor([data.word2idx['<START>']], device=device) \n",
        "        word_hidden = decoder.initHidden()\n",
        "        for i in range(228):\n",
        "            token = token.to(device).view(1, 1, 1)\n",
        "\n",
        "            probas, hidden, att_w, word_hidden = decoder(token, hidden, output_E, word_hidden)\n",
        "            att.append(torch.squeeze(att_w).detach().cpu().numpy())\n",
        "            # print(probas.view(1, -1).shape)\n",
        "            # loss += criterion(probas.view(1, -1), torch.tensor([y[i + 1]], device=device))\n",
        "            # true_target[-1] += ' ' + data.idx2word[y[i + 1]]\n",
        "            idx_pred = torch.argmax(torch.squeeze(probas)).detach().cpu().item()\n",
        "            predicted_target += [data.idx2word[idx_pred]]\n",
        "            token = torch.tensor([idx_pred], device=device)\n",
        "            if idx_pred == end_token_id:\n",
        "                break\n",
        "    encoder.train()\n",
        "    decoder.train()\n",
        "    return predicted_target, att"
      ],
      "execution_count": null,
      "outputs": []
    },
    {
      "cell_type": "code",
      "metadata": {
        "id": "YccbknsLBsyW"
      },
      "source": [
        "def showAttention(input_sentence, output_words, attentions):\n",
        "    # Set up figure with colorbar\n",
        "    fig = plt.figure()\n",
        "    ax = fig.add_subplot(111)\n",
        "    cax = ax.matshow(attentions, cmap='bone')\n",
        "    fig.colorbar(cax)\n",
        "\n",
        "    # Set up axes\n",
        "    ax.set_xticklabels([''] + input_sentence, rotation=90)\n",
        "    ax.set_yticklabels([''] + output_words)\n",
        "\n",
        "    # Show label at every tick\n",
        "    ax.xaxis.set_major_locator(ticker.MultipleLocator(1))\n",
        "    ax.yaxis.set_major_locator(ticker.MultipleLocator(1))\n",
        "\n",
        "    plt.show()"
      ],
      "execution_count": null,
      "outputs": []
    },
    {
      "cell_type": "code",
      "metadata": {
        "colab": {
          "base_uri": "https://localhost:8080/",
          "height": 337
        },
        "id": "Uask039OBsvQ",
        "outputId": "b3750c4b-1e8c-4cc3-ec8e-85ff989b4e1e"
      },
      "source": [
        "output_words, attentions = predict(dataset[13])\n",
        "print(output_words)\n",
        "showAttention(dataset[13], output_words, attentions)"
      ],
      "execution_count": null,
      "outputs": [
        {
          "output_type": "stream",
          "text": [
            "['поражение', 'тысяча девятьсот пятого года', 'потерпела', 'поражение', '.', '<END>']\n"
          ],
          "name": "stdout"
        },
        {
          "output_type": "display_data",
          "data": {
            "image/png": "[encoded data removed]",
            "text/plain": [
              "<Figure size 432x288 with 2 Axes>"
            ]
          },
          "metadata": {
            "tags": [],
            "needs_background": "light"
          }
        }
      ]
    },
    {
      "cell_type": "markdown",
      "metadata": {
        "id": "SYo-BEKXkr00"
      },
      "source": [
        "> С предобученным word2vec было бы лучше, наверное. Но на векторизацию тратится очень много времени. Из-за этого 1 эпоха обучения ~ 500 минут. Поэтому результата в ячейках ниже нет существенного. Ладно. Основная цель -- разобраться с seq2seq и Attention выполнена."
      ]
    },
    {
      "cell_type": "markdown",
      "metadata": {
        "id": "Hj0yKkNUmQ1i"
      },
      "source": [
        "### Безуспешные попытки прикрутить pretrained word2vec"
      ]
    },
    {
      "cell_type": "code",
      "metadata": {
        "colab": {
          "base_uri": "https://localhost:8080/"
        },
        "id": "9WnxCV8lBsuG",
        "outputId": "da4be051-9f49-45ae-a0be-5f107d7c7e40"
      },
      "source": [
        "!pip install simple-elmo"
      ],
      "execution_count": null,
      "outputs": [
        {
          "output_type": "stream",
          "text": [
            "Collecting simple-elmo\n",
            "\u001b[?25l  Downloading https://files.pythonhosted.org/packages/71/56/2382ba23451357a680831669f180de7c8ffc34fd62c71536d38abc068e40/simple_elmo-0.8.0-py3-none-any.whl (45kB)\n",
            "\r\u001b[K     |███████▏                        | 10kB 23.2MB/s eta 0:00:01\r\u001b[K     |██████████████▍                 | 20kB 19.2MB/s eta 0:00:01\r\u001b[K     |█████████████████████▋          | 30kB 24.0MB/s eta 0:00:01\r\u001b[K     |████████████████████████████▊   | 40kB 20.4MB/s eta 0:00:01\r\u001b[K     |████████████████████████████████| 51kB 7.1MB/s \n",
            "\u001b[?25hRequirement already satisfied: smart-open>1.8.1 in /usr/local/lib/python3.7/dist-packages (from simple-elmo) (5.0.0)\n",
            "Requirement already satisfied: pandas in /usr/local/lib/python3.7/dist-packages (from simple-elmo) (1.1.5)\n",
            "Requirement already satisfied: h5py in /usr/local/lib/python3.7/dist-packages (from simple-elmo) (2.10.0)\n",
            "Requirement already satisfied: numpy in /usr/local/lib/python3.7/dist-packages (from simple-elmo) (1.19.5)\n",
            "Requirement already satisfied: scipy in /usr/local/lib/python3.7/dist-packages (from simple-elmo) (1.4.1)\n",
            "Requirement already satisfied: pytz>=2017.2 in /usr/local/lib/python3.7/dist-packages (from pandas->simple-elmo) (2018.9)\n",
            "Requirement already satisfied: python-dateutil>=2.7.3 in /usr/local/lib/python3.7/dist-packages (from pandas->simple-elmo) (2.8.1)\n",
            "Requirement already satisfied: six in /usr/local/lib/python3.7/dist-packages (from h5py->simple-elmo) (1.15.0)\n",
            "Installing collected packages: simple-elmo\n",
            "Successfully installed simple-elmo-0.8.0\n"
          ],
          "name": "stdout"
        }
      ]
    },
    {
      "cell_type": "code",
      "metadata": {
        "colab": {
          "base_uri": "https://localhost:8080/",
          "height": 257
        },
        "id": "lintGOixBsqI",
        "outputId": "4a9d787c-6cde-4799-8c5b-5262e3f24b72"
      },
      "source": [
        "from simple_elmo import ElmoModel\n",
        "emb_model = ElmoModel()\n",
        "emb_model.load('/content/drive/MyDrive/195(elmo).zip')"
      ],
      "execution_count": null,
      "outputs": [
        {
          "output_type": "stream",
          "text": [
            "2021-05-14 10:16:06,805 : INFO : Loading model from /content/drive/MyDrive/195(elmo).zip...\n",
            "2021-05-14 10:16:06,808 : INFO : \n",
            "            Assuming the model is a ZIP archive downloaded from the NLPL vector repository.\n",
            "            Loading a model from a ZIP archive directly is slower than from the extracted files,\n",
            "            but does not require additional disk space\n",
            "            and allows to load from directories without write permissions.\n",
            "            \n",
            "2021-05-14 10:16:06,830 : INFO : We will cache the vocabulary of 100 tokens.\n",
            "/usr/local/lib/python3.7/dist-packages/tensorflow/python/keras/layers/legacy_rnn/rnn_cell_impl.py:903: UserWarning: `tf.nn.rnn_cell.LSTMCell` is deprecated and will be removed in a future version. This class is equivalent as `tf.keras.layers.LSTMCell`, and will be replaced by that in Tensorflow 2.0.\n",
            "  warnings.warn(\"`tf.nn.rnn_cell.LSTMCell` is deprecated and will be \"\n",
            "/usr/local/lib/python3.7/dist-packages/tensorflow/python/keras/engine/base_layer_v1.py:1727: UserWarning: `layer.add_variable` is deprecated and will be removed in a future version. Please use `layer.add_weight` method instead.\n",
            "  warnings.warn('`layer.add_variable` is deprecated and '\n"
          ],
          "name": "stderr"
        },
        {
          "output_type": "execute_result",
          "data": {
            "application/vnd.google.colaboratory.intrinsic+json": {
              "type": "string"
            },
            "text/plain": [
              "'The model is now loaded.'"
            ]
          },
          "metadata": {
            "tags": []
          },
          "execution_count": 12
        }
      ]
    },
    {
      "cell_type": "code",
      "metadata": {
        "colab": {
          "base_uri": "https://localhost:8080/"
        },
        "id": "BCWRrPnPBsnC",
        "outputId": "8440eb63-9ea0-4fb9-a986-e16d1bfdecf5"
      },
      "source": [
        "emb_model.get_elmo_vector_average(['привет', 'кто', 'я', '<START>', '.']).shape"
      ],
      "execution_count": null,
      "outputs": [
        {
          "output_type": "stream",
          "text": [
            "2021-05-14 10:18:42,839 : INFO : Warming up ELMo on 5 sentences...\n",
            "2021-05-14 10:18:45,676 : INFO : Warming up finished.\n",
            "2021-05-14 10:18:45,678 : INFO : Texts in the current batch: 5\n"
          ],
          "name": "stderr"
        },
        {
          "output_type": "execute_result",
          "data": {
            "text/plain": [
              "(5, 1024)"
            ]
          },
          "metadata": {
            "tags": []
          },
          "execution_count": 13
        }
      ]
    },
    {
      "cell_type": "code",
      "metadata": {
        "id": "ritG5Yk_TheP"
      },
      "source": [
        "class EncoderRNN(nn.Module):\n",
        "    def __init__(self, embedding_dim, hidden_size):\n",
        "        super().__init__()\n",
        "        self.embedding_dim = embedding_dim\n",
        "        self.hidden_size = hidden_size\n",
        "        # self.emb = torch.nn.Embedding(len(data.idx2word), embedding_dim)\n",
        "        self.rnn = torch.nn.GRU(input_size=embedding_dim, hidden_size=hidden_size, dropout=0.6)\n",
        "\n",
        "    def forward(self, x, hidden):\n",
        "        embedded = x.view(-1, 1, self.embedding_dim) # (seq_len = -1, batch = 1, input_size = embeddin_dim)\n",
        "        output, hidden = self.rnn(embedded, hidden)\n",
        "        return output, hidden\n",
        "\n",
        "    def initHidden(self):\n",
        "        return torch.zeros(1, 1, self.hidden_size, device=device)"
      ],
      "execution_count": null,
      "outputs": []
    },
    {
      "cell_type": "code",
      "metadata": {
        "id": "TQKdhzOlTha1"
      },
      "source": [
        "class DecoderRNN(nn.Module):\n",
        "    def __init__(self, embedding_dim, hidden_size):\n",
        "        super().__init__()\n",
        "        self.embedding_dim = embedding_dim\n",
        "        self.hidden_size = hidden_size\n",
        "        # self.emb = torch.nn.Embedding(len(data.idx2word), embedding_dim)\n",
        "        self.word_rnn = torch.nn.GRU(input_size=embedding_dim, hidden_size=hidden_size, dropout=0.6)\n",
        "        self.rnn = torch.nn.GRU(input_size=hidden_size + hidden_size, hidden_size=hidden_size, dropout=0.6)\n",
        "        self.W = torch.nn.Linear(hidden_size, hidden_size)\n",
        "        self.drop = torch.nn.Dropout(0.6)\n",
        "        self.FC = torch.nn.Linear(hidden_size, len(data.idx2word))\n",
        "\n",
        "    def forward(self, token, hidden, enc_out, word_hidden): # here goes only one token\n",
        "        # token : (1, 1, 1)\n",
        "        # hidden : (1, 1, hidden_size)\n",
        "        # enc_out : (1, hidden_size, enc_input)\n",
        "        embedded = token.view(1, 1, self.embedding_dim) # v_i\n",
        "        out, word = self.word_rnn(embedded, word_hidden)\n",
        "        att_w = F.softmax(torch.transpose(torch.bmm(self.drop(self.W(word)), enc_out), 1, 2), dim=1) # (batch, enc_seq_out, 1)\n",
        "        att = torch.bmm(enc_out, att_w).view(1, 1, -1) # (1, 1, hidden)\n",
        "        x = torch.cat((att, word), dim=2) # (1, 1, hidden + embedding)\n",
        "        output, hidden = self.rnn(F.silu(x), hidden)\n",
        "        probas = self.FC(hidden)\n",
        "        return probas, hidden, att_w, word\n",
        "    \n",
        "    def initHidden(self):\n",
        "        return torch.zeros(1, 1, self.hidden_size, device=device)\n",
        "    "
      ],
      "execution_count": null,
      "outputs": []
    },
    {
      "cell_type": "code",
      "metadata": {
        "id": "OLXd9RafVPim"
      },
      "source": [
        "def predict(seq):\n",
        "    encoder.eval()\n",
        "    decoder.eval()\n",
        "    seq = prepare_sent(seq)\n",
        "    predicted_target = []\n",
        "    att = []\n",
        "    with torch.no_grad():\n",
        "        X = seq\n",
        "        X = emb_model.get_elmo_vector_average(data.detokenize(X))\n",
        "\n",
        "        X = torch.FloatTensor(X).to(device) # seq_len x 1024\n",
        "        \n",
        "        # y = torch.tensor(y, device=device).view(1, -1)\n",
        "        hidden = encoder.initHidden()\n",
        "        output_E, hidden = encoder(X, hidden)\n",
        "        # output_E : seq x 1 x hidden_size <-- need reshape\n",
        "        # hidden : 1 x 1 x hidden_size\n",
        "        output_E = torch.swapaxes(output_E, 0, 1)\n",
        "        output_E = torch.swapaxes(output_E, 1, 2)\n",
        "        # output_E : 1 x hidden_size x seq\n",
        "        # true_target = ''\n",
        "        # print(len(y) - 1)\n",
        "        word_hidden = decoder.initHidden()\n",
        "        token = torch.FloatTensor(emb_model.get_elmo_vector_average(['<START>'])).to(device)\n",
        "        for i in range(228):\n",
        "            token = token.view(1, 1, 1024)\n",
        "            probas, hidden, att_w, word_hidden = decoder(token, hidden, output_E, word_hidden)\n",
        "            att.append(torch.squeeze(att_w).detach().cpu().numpy())\n",
        "            # print(probas.view(1, -1).shape)\n",
        "            # loss += criterion(probas.view(1, -1), torch.tensor([y[i + 1]], device=device))\n",
        "            # true_target[-1] += ' ' + data.idx2word[y[i + 1]]\n",
        "            idx_pred = torch.argmax(torch.squeeze(probas)).detach().cpu().item()\n",
        "            predicted_target += [data.idx2word[idx_pred]]\n",
        "            \n",
        "            token = torch.FloatTensor(emb_model.get_elmo_vector_average(data.detokenize([idx_pred]))).to(device)\n",
        "            if idx_pred == end_token_id:\n",
        "                break\n",
        "    encoder.train()\n",
        "    decoder.train()\n",
        "    return predicted_target, att"
      ],
      "execution_count": null,
      "outputs": []
    },
    {
      "cell_type": "code",
      "metadata": {
        "colab": {
          "base_uri": "https://localhost:8080/"
        },
        "id": "n1OVRnP6ThYR",
        "outputId": "4a574f4e-f0c4-4b23-c4f4-56271fe8aa43"
      },
      "source": [
        "encoder = EncoderRNN(1024, 256).to(device)\n",
        "decoder = DecoderRNN(1024, 256).to(device)"
      ],
      "execution_count": null,
      "outputs": [
        {
          "output_type": "stream",
          "text": [
            "/usr/local/lib/python3.7/dist-packages/torch/nn/modules/rnn.py:63: UserWarning: dropout option adds dropout after all but last recurrent layer, so non-zero dropout expects num_layers greater than 1, but got dropout=0.6 and num_layers=1\n",
            "  \"num_layers={}\".format(dropout, num_layers))\n"
          ],
          "name": "stderr"
        }
      ]
    },
    {
      "cell_type": "code",
      "metadata": {
        "id": "5vVEwTUeThV8"
      },
      "source": [
        "criterion = torch.nn.CrossEntropyLoss()\n",
        "optimizer_E = torch.optim.Adam(encoder.parameters(), lr=0.001)\n",
        "optimizer_D = torch.optim.Adam(decoder.parameters(), lr=0.001)\n",
        "EPOCHS = 1 # 60 epochs is +- enough\n",
        "teacher_forcing_ratio = 0.5"
      ],
      "execution_count": null,
      "outputs": []
    },
    {
      "cell_type": "code",
      "metadata": {
        "id": "VYmr1ExAThT4"
      },
      "source": [
        "hist_losses = []\n",
        "end_token_id = data.word2idx['<END>']\n",
        "for epoch in range(EPOCHS):\n",
        "    permutation = np.random.permutation(len(data))\n",
        "    true_target = []\n",
        "    predicted_target = []\n",
        "    for j in range(len(data)):\n",
        "        encoder.zero_grad()\n",
        "        decoder.zero_grad()\n",
        "        X, y = data[permutation[j]]\n",
        "\n",
        "        # Take random segment\n",
        "        sz = len(X)\n",
        "        r_bound = random.randint(max(2, sz // 2), sz - 1) + 1\n",
        "        l_bound = random.randint(1, r_bound - 1)\n",
        "        X = [data.word2idx['<START>']] + X[l_bound:r_bound] + [data.word2idx['<END>']]\n",
        "        y = [data.word2idx['<START>']] + y[l_bound:r_bound] + [data.word2idx['<END>']]\n",
        "        \n",
        "        X = emb_model.get_elmo_vector_average(data.detokenize(X), warmup=False)\n",
        "\n",
        "        X = torch.FloatTensor(X).to(device) # seq_len x 1024\n",
        "        # y = torch.tensor(y, device=device).view(1, -1)\n",
        "        hidden = encoder.initHidden()\n",
        "        output_E, hidden = encoder(X, hidden)\n",
        "        # output_E : seq x 1 x hidden_size <-- need reshape\n",
        "        # hidden : 1 x 1 x hidden_size\n",
        "        output_E = torch.swapaxes(output_E, 0, 1)\n",
        "        output_E = torch.swapaxes(output_E, 1, 2)\n",
        "        # output_E : 1 x hidden_size x seq\n",
        "        loss = 0\n",
        "        true_target.append('')\n",
        "        predicted_target.append('')\n",
        "        # print(len(y) - 1)\n",
        "        word_hidden = decoder.initHidden()\n",
        "        use_teacher_forcing = True if random.random() < teacher_forcing_ratio else False\n",
        "        if use_teacher_forcing:\n",
        "            for i in range(len(y) - 1):\n",
        "                token = torch.FloatTensor(emb_model.get_elmo_vector_average(data.detokenize([y[i]]), warmup=False)).to(device)\n",
        "                token = token.view(1, 1, 1024)\n",
        "\n",
        "                probas, hidden, att_w, word_hidden = decoder(token, hidden, output_E, word_hidden)\n",
        "                # print(probas.view(1, -1).shape)\n",
        "                loss += criterion(probas.view(1, -1), torch.tensor([y[i + 1]], device=device))\n",
        "                true_target[-1] += ' ' + data.idx2word[y[i + 1]]\n",
        "                idx_pred = torch.argmax(torch.squeeze(probas)).detach().cpu().item()\n",
        "                predicted_target[-1] += ' ' + data.idx2word[idx_pred]\n",
        "        else:\n",
        "            token = torch.FloatTensor(emb_model.get_elmo_vector_average(data.detokenize([y[0]]), warmup=False)).to(device)\n",
        "            for i in range(len(y) - 1):\n",
        "                token = torch.FloatTensor(emb_model.get_elmo_vector_average(data.detokenize([y[i]]), warmup=False)).to(device)\n",
        "                token = token.view(1, 1, 1024)\n",
        "\n",
        "                probas, hidden, att_w, word_hidden = decoder(token, hidden, output_E, word_hidden)\n",
        "                # print(probas.view(1, -1).shape)\n",
        "                loss += criterion(probas.view(1, -1), torch.tensor([y[i + 1]], device=device))\n",
        "                true_target[-1] += ' ' + data.idx2word[y[i + 1]]\n",
        "                idx_pred = torch.argmax(torch.squeeze(probas)).detach().cpu().item()\n",
        "                predicted_target[-1] += ' ' + data.idx2word[idx_pred]\n",
        "                token = torch.tensor([idx_pred], device=device)\n",
        "                if idx_pred == end_token_id:\n",
        "                    break\n",
        "        loss.backward()\n",
        "        optimizer_D.step()\n",
        "        optimizer_E.step()\n",
        "        hist_losses.append(loss.detach().cpu().item() / (len(y) - 1))\n",
        "        if (j % 210 == 0):\n",
        "            print(j, np.mean(hist_losses[max(0, j - 42):-1]))\n",
        "    print(f'Epoch {epoch} finished, loss : {hist_losses[-1]:.7f}')\n",
        "    for i in range(1, 2):\n",
        "        print(true_target[-i], predicted_target[-i])\n",
        "    print('----------------')\n",
        "    print(predict(['<START>', 'в', 'конце', '1811 года', ',', 'вследствие', 'конфликта', '.', '<END>'])[0])\n",
        "    print('================')"
      ],
      "execution_count": null,
      "outputs": []
    },
    {
      "cell_type": "code",
      "metadata": {
        "colab": {
          "base_uri": "https://localhost:8080/",
          "height": 740
        },
        "id": "AlTErSXIThRu",
        "outputId": "f1085fda-f5f0-447f-8178-e603dd5abb91"
      },
      "source": [
        "output_words, attentions = predict(dataset[13])\n",
        "print(output_words)\n",
        "showAttention(dataset[13], output_words, attentions)"
      ],
      "execution_count": null,
      "outputs": [
        {
          "output_type": "stream",
          "text": [
            "2021-05-14 11:06:51,996 : INFO : Warming up ELMo on 7 sentences...\n",
            "2021-05-14 11:06:52,390 : INFO : Warming up finished.\n",
            "2021-05-14 11:06:52,392 : INFO : Texts in the current batch: 7\n",
            "2021-05-14 11:06:54,466 : INFO : Warming up ELMo on 1 sentences...\n",
            "2021-05-14 11:06:54,864 : INFO : Warming up finished.\n",
            "2021-05-14 11:06:54,865 : INFO : Texts in the current batch: 1\n",
            "2021-05-14 11:06:57,045 : INFO : Warming up ELMo on 1 sentences...\n",
            "2021-05-14 11:06:57,447 : INFO : Warming up finished.\n",
            "2021-05-14 11:06:57,449 : INFO : Texts in the current batch: 1\n",
            "2021-05-14 11:06:59,649 : INFO : Warming up ELMo on 1 sentences...\n",
            "2021-05-14 11:07:00,020 : INFO : Warming up finished.\n",
            "2021-05-14 11:07:00,021 : INFO : Texts in the current batch: 1\n",
            "2021-05-14 11:07:02,104 : INFO : Warming up ELMo on 1 sentences...\n",
            "2021-05-14 11:07:02,465 : INFO : Warming up finished.\n",
            "2021-05-14 11:07:02,466 : INFO : Texts in the current batch: 1\n",
            "2021-05-14 11:07:04,545 : INFO : Warming up ELMo on 1 sentences...\n",
            "2021-05-14 11:07:04,905 : INFO : Warming up finished.\n",
            "2021-05-14 11:07:04,906 : INFO : Texts in the current batch: 1\n",
            "2021-05-14 11:07:07,151 : INFO : Warming up ELMo on 1 sentences...\n",
            "2021-05-14 11:07:07,551 : INFO : Warming up finished.\n",
            "2021-05-14 11:07:07,553 : INFO : Texts in the current batch: 1\n",
            "2021-05-14 11:07:09,630 : INFO : Warming up ELMo on 1 sentences...\n",
            "2021-05-14 11:07:10,005 : INFO : Warming up finished.\n",
            "2021-05-14 11:07:10,007 : INFO : Texts in the current batch: 1\n"
          ],
          "name": "stderr"
        },
        {
          "output_type": "stream",
          "text": [
            "['в', ',', ',', ',', ',', '<END>']\n"
          ],
          "name": "stdout"
        },
        {
          "output_type": "display_data",
          "data": {
            "image/png": "[encoded data removed]",
            "text/plain": [
              "<Figure size 432x288 with 2 Axes>"
            ]
          },
          "metadata": {
            "tags": [],
            "needs_background": "light"
          }
        }
      ]
    }
  ]
}